{
 "cells": [
  {
   "cell_type": "markdown",
   "id": "5044e9d6-a1e5-408e-bdb4-fc0814d9968e",
   "metadata": {},
   "source": [
    "### function"
   ]
  },
  {
   "cell_type": "code",
   "execution_count": 1,
   "id": "a8598bf4-60d2-45af-8a6c-7322abe1483c",
   "metadata": {},
   "outputs": [],
   "source": [
    "def fun():\n",
    "    print('hello')"
   ]
  },
  {
   "cell_type": "code",
   "execution_count": 2,
   "id": "36a2914f-8cf0-4518-818c-6c8833d2a521",
   "metadata": {},
   "outputs": [
    {
     "name": "stdout",
     "output_type": "stream",
     "text": [
      "hello\n"
     ]
    }
   ],
   "source": [
    "fun()"
   ]
  },
  {
   "cell_type": "code",
   "execution_count": 3,
   "id": "b28926e3-2323-43a1-824d-bf956e84dd15",
   "metadata": {},
   "outputs": [
    {
     "data": {
      "text/plain": [
       "function"
      ]
     },
     "execution_count": 3,
     "metadata": {},
     "output_type": "execute_result"
    }
   ],
   "source": [
    "type(fun)"
   ]
  },
  {
   "cell_type": "code",
   "execution_count": 4,
   "id": "36d55817-b642-44fc-8fba-37bf56173428",
   "metadata": {},
   "outputs": [],
   "source": [
    "def f1(i,j,k):\n",
    "    print(i+j)\n",
    "    print(k.upper())"
   ]
  },
  {
   "cell_type": "code",
   "execution_count": 5,
   "id": "43d9ce94-cacf-440b-8e74-9c55c8bbd580",
   "metadata": {},
   "outputs": [
    {
     "name": "stdout",
     "output_type": "stream",
     "text": [
      "3\n",
      "ZOYA\n"
     ]
    }
   ],
   "source": [
    "f1(1,2,'zoya')"
   ]
  },
  {
   "cell_type": "code",
   "execution_count": 6,
   "id": "900be6a7-7e2b-44b6-a8da-be8ae06fa7a3",
   "metadata": {},
   "outputs": [],
   "source": [
    "def f2(i, j, k):\n",
    "    print(i+j)\n",
    "    print(k.capitalize())"
   ]
  },
  {
   "cell_type": "code",
   "execution_count": 7,
   "id": "b6419e64-e082-48a6-a58e-fbf70ef42c9f",
   "metadata": {},
   "outputs": [
    {
     "name": "stdout",
     "output_type": "stream",
     "text": [
      "3\n",
      "My name is zoya\n"
     ]
    }
   ],
   "source": [
    "f2(2, k = 'my name is zoya', j = 1)"
   ]
  },
  {
   "cell_type": "code",
   "execution_count": 8,
   "id": "35b4f5e4-421b-4313-9f44-f5a8019e114c",
   "metadata": {},
   "outputs": [],
   "source": [
    "def f3(*args):\n",
    "    for i in args:\n",
    "        print(i, end=' ')"
   ]
  },
  {
   "cell_type": "code",
   "execution_count": 9,
   "id": "28e1070d-e1f3-4902-99d0-ffb7ad15ac00",
   "metadata": {},
   "outputs": [
    {
     "name": "stdout",
     "output_type": "stream",
     "text": [
      "12 "
     ]
    }
   ],
   "source": [
    "f3(12)"
   ]
  },
  {
   "cell_type": "code",
   "execution_count": 10,
   "id": "5092f40d-56ae-436a-ac34-a28d81e72314",
   "metadata": {},
   "outputs": [
    {
     "name": "stdout",
     "output_type": "stream",
     "text": [
      "12 80 9.5 zoya "
     ]
    }
   ],
   "source": [
    "f3(12, 80, 9.5, 'zoya')"
   ]
  },
  {
   "cell_type": "code",
   "execution_count": 24,
   "id": "b3ff5ceb-3326-4c09-8f7f-9f1a9c08c23c",
   "metadata": {},
   "outputs": [],
   "source": [
    "def f4(**kwargs):\n",
    "    for i,j in kwargs.items():\n",
    "        print(i, j, end='\\n')"
   ]
  },
  {
   "cell_type": "code",
   "execution_count": 19,
   "id": "0e482958-5757-40e0-b9a1-989daea1ad9d",
   "metadata": {},
   "outputs": [],
   "source": [
    "d = {\n",
    "    'a' : 10,\n",
    "    'b' : 20,\n",
    "    'c' : 30,\n",
    "    'd' : 40\n",
    "}"
   ]
  },
  {
   "cell_type": "code",
   "execution_count": 20,
   "id": "4c19d25d-8401-444e-899e-b1e6150cecc5",
   "metadata": {},
   "outputs": [
    {
     "data": {
      "text/plain": [
       "{'a': 10, 'b': 20, 'c': 30, 'd': 40}"
      ]
     },
     "execution_count": 20,
     "metadata": {},
     "output_type": "execute_result"
    }
   ],
   "source": [
    "d"
   ]
  },
  {
   "cell_type": "code",
   "execution_count": 27,
   "id": "a34165c0-f6f2-4668-abaf-e768d63344de",
   "metadata": {},
   "outputs": [
    {
     "name": "stdout",
     "output_type": "stream",
     "text": [
      "a 10\n",
      "b 20\n",
      "c 30\n",
      "d 40\n"
     ]
    }
   ],
   "source": [
    "f4(**d)"
   ]
  },
  {
   "cell_type": "code",
   "execution_count": 15,
   "id": "46317f7f-49e3-4022-a505-beda50aa6759",
   "metadata": {},
   "outputs": [
    {
     "name": "stdout",
     "output_type": "stream",
     "text": [
      "a 10\n",
      "b 20\n"
     ]
    }
   ],
   "source": [
    "f4(a = 10, b= 20)"
   ]
  },
  {
   "cell_type": "code",
   "execution_count": 16,
   "id": "8fe60381-dd0f-4bdc-8313-e43de7b47a89",
   "metadata": {},
   "outputs": [
    {
     "name": "stdout",
     "output_type": "stream",
     "text": [
      "a 10\n"
     ]
    }
   ],
   "source": [
    "f4(a = 10)"
   ]
  },
  {
   "cell_type": "code",
   "execution_count": 17,
   "id": "e7a6f448-305f-41dc-9ef6-077cd67c47aa",
   "metadata": {},
   "outputs": [],
   "source": [
    "# PVPKVK - arguments order"
   ]
  },
  {
   "cell_type": "markdown",
   "id": "5641a036-7108-449a-963b-3c5f39eec814",
   "metadata": {},
   "source": [
    "#### Key Differences:\n",
    " Aspect                | `*args` (Positional)         | `**kwargs` (Keyword)             |\r",
    "|-----------------------|-----------------------------|-----------------------------------|\n",
    "| **Purpose**           | Handles positional arguments | Handles keyword arguments         \r\n",
    "| **Data Type**         | Tuple                        | Dictionary                       |\r\n",
    "| **Usage**             | Unnamed arguments           | Named arguments                  |\r\n",
    "| **Example Call**      | `func(1, 2, 3)`             | `func(a=1, b=2, c=3)`            |\r\n"
   ]
  },
  {
   "cell_type": "code",
   "execution_count": 28,
   "id": "59920e14-dc7f-4ecc-901d-2afa50452a9a",
   "metadata": {},
   "outputs": [],
   "source": [
    "lst = [1,2,3,4]"
   ]
  },
  {
   "cell_type": "code",
   "execution_count": 29,
   "id": "34a45670-e8c6-4d48-b6f5-fa5796759bb8",
   "metadata": {},
   "outputs": [],
   "source": [
    "def f5(a,b,c,d):\n",
    "    print(a,b,c,d)"
   ]
  },
  {
   "cell_type": "code",
   "execution_count": 31,
   "id": "ece0fdd5-6aa2-42aa-9879-661831b2e2ee",
   "metadata": {},
   "outputs": [
    {
     "name": "stdout",
     "output_type": "stream",
     "text": [
      "1 2 3 4\n"
     ]
    }
   ],
   "source": [
    "f5(*lst)"
   ]
  },
  {
   "cell_type": "code",
   "execution_count": 32,
   "id": "4d99730a-b0cb-4ec4-8980-fca2728a4c1a",
   "metadata": {},
   "outputs": [],
   "source": [
    "def f6(name, marks):\n",
    "    print(name, marks)"
   ]
  },
  {
   "cell_type": "code",
   "execution_count": 33,
   "id": "7edf6fea-3a89-44d9-b6cb-399a86b61c64",
   "metadata": {},
   "outputs": [
    {
     "data": {
      "text/plain": [
       "{'a': 10, 'b': 20, 'c': 30, 'd': 40}"
      ]
     },
     "execution_count": 33,
     "metadata": {},
     "output_type": "execute_result"
    }
   ],
   "source": [
    "d"
   ]
  },
  {
   "cell_type": "code",
   "execution_count": 40,
   "id": "ec3d6253-b2e3-4373-830f-64f66b28798b",
   "metadata": {},
   "outputs": [],
   "source": [
    "d1 = {'name': 'zoya', 'marks' : 90}"
   ]
  },
  {
   "cell_type": "code",
   "execution_count": 41,
   "id": "82982ab2-2288-4a49-aa21-d78c7d14c929",
   "metadata": {},
   "outputs": [
    {
     "name": "stdout",
     "output_type": "stream",
     "text": [
      "zoya 90\n"
     ]
    }
   ],
   "source": [
    "f6(**d1)"
   ]
  },
  {
   "cell_type": "code",
   "execution_count": 42,
   "id": "08e6dee7-b20a-449b-af23-e3ad27fc3784",
   "metadata": {},
   "outputs": [],
   "source": [
    "def f7(a,b):\n",
    "    print(a+b)"
   ]
  },
  {
   "cell_type": "code",
   "execution_count": 55,
   "id": "9fdaec8e-2212-4776-b340-14db254d697c",
   "metadata": {},
   "outputs": [],
   "source": [
    "func = f7"
   ]
  },
  {
   "cell_type": "code",
   "execution_count": 56,
   "id": "79bbeaf2-dbe4-44cf-ba8c-32261513cc3a",
   "metadata": {},
   "outputs": [
    {
     "name": "stdout",
     "output_type": "stream",
     "text": [
      "3\n"
     ]
    }
   ],
   "source": [
    "func(1,2)"
   ]
  },
  {
   "cell_type": "code",
   "execution_count": 58,
   "id": "a9df239f-f77a-4ee8-8411-b0effac82e8f",
   "metadata": {},
   "outputs": [],
   "source": [
    "def f8(a,b, f):\n",
    "    print(a+b)\n",
    "    f()\n"
   ]
  },
  {
   "cell_type": "code",
   "execution_count": 60,
   "id": "c828f5ec-cc94-449e-8ab6-d4131e42164a",
   "metadata": {},
   "outputs": [
    {
     "name": "stdout",
     "output_type": "stream",
     "text": [
      "15\n",
      "hello\n"
     ]
    }
   ],
   "source": [
    "f8(8,7,fun)"
   ]
  },
  {
   "cell_type": "markdown",
   "id": "9eab1217-61e8-4e3f-9f5e-0db1de636388",
   "metadata": {},
   "source": [
    "### lambda function\n",
    "| Aspect                 | Details                                   |\n",
    "|------------------------|-------------------------------------------|\n",
    "| **Definition**         | Anonymous function defined using `lambda`. |\n",
    "| **Syntax**             | `lambda arguments: expression`.          |\n",
    "| **Return Value**       | Implicitly returns the result of the expression. |\n",
    "| **Usage**              | Used for small, single-expression functions. |\n",
    "| **Scope**              | Limited to a single expression.          |\n",
    "| **Example**            | `square = lambda x: x ** 2`              |\n",
    "| **Use Cases**          | Short utility functions, sorting, filtering, mapping, etc. |\n",
    "| **Limitations**        | Cannot contain statements or multiple expressions. |"
   ]
  },
  {
   "cell_type": "code",
   "execution_count": 66,
   "id": "2ad313d3-f2d8-45a6-bc17-2d1d77c6bbc3",
   "metadata": {},
   "outputs": [
    {
     "name": "stdout",
     "output_type": "stream",
     "text": [
      "49\n"
     ]
    }
   ],
   "source": [
    "print((lambda x : x**2)(7)) # 7 is argument here"
   ]
  },
  {
   "cell_type": "code",
   "execution_count": 69,
   "id": "f58e4a19-ca43-487e-9472-91f7bca82115",
   "metadata": {},
   "outputs": [],
   "source": [
    "x = lambda s : s.strip().upper()"
   ]
  },
  {
   "cell_type": "code",
   "execution_count": 72,
   "id": "3f4c19a7-b139-43c5-9304-af3865aac0e1",
   "metadata": {},
   "outputs": [
    {
     "data": {
      "text/plain": [
       "'MY NAME IS ZOYA'"
      ]
     },
     "execution_count": 72,
     "metadata": {},
     "output_type": "execute_result"
    }
   ],
   "source": [
    "x('     my name is zoya  ')"
   ]
  },
  {
   "cell_type": "code",
   "execution_count": 73,
   "id": "786c8c8f-0816-4585-83be-ec96766de408",
   "metadata": {},
   "outputs": [
    {
     "data": {
      "text/plain": [
       "[1, 2, 3, 4]"
      ]
     },
     "execution_count": 73,
     "metadata": {},
     "output_type": "execute_result"
    }
   ],
   "source": [
    "lst"
   ]
  },
  {
   "cell_type": "code",
   "execution_count": 78,
   "id": "4a9a3223-6791-4ac2-88cb-563ae6509ecd",
   "metadata": {},
   "outputs": [
    {
     "data": {
      "text/plain": [
       "2.5"
      ]
     },
     "execution_count": 78,
     "metadata": {},
     "output_type": "execute_result"
    }
   ],
   "source": [
    "# avg of list using lambda\n",
    "(lambda x : sum(x) / len(x))(lst)"
   ]
  },
  {
   "cell_type": "code",
   "execution_count": 79,
   "id": "556b4688-b62a-40ce-8346-87132ae5a931",
   "metadata": {},
   "outputs": [
    {
     "data": {
      "text/plain": [
       "{'name': 'zoya', 'marks': 90}"
      ]
     },
     "execution_count": 79,
     "metadata": {},
     "output_type": "execute_result"
    }
   ],
   "source": [
    "d1"
   ]
  },
  {
   "cell_type": "code",
   "execution_count": 80,
   "id": "dc54491d-da9c-460c-aaf4-73f777e02bdc",
   "metadata": {},
   "outputs": [
    {
     "data": {
      "text/plain": [
       "{'a': 10, 'b': 20, 'c': 30, 'd': 40}"
      ]
     },
     "execution_count": 80,
     "metadata": {},
     "output_type": "execute_result"
    }
   ],
   "source": [
    "d"
   ]
  },
  {
   "cell_type": "code",
   "execution_count": 82,
   "id": "6f22f6a4-d1a8-4f7f-8538-40b457334585",
   "metadata": {},
   "outputs": [],
   "source": [
    "d2 = {'a': 20, 'b': 10, 'c': 50, 'd': 40}"
   ]
  },
  {
   "cell_type": "code",
   "execution_count": 83,
   "id": "460180b6-3a27-4c19-b31b-c5f394ad5646",
   "metadata": {},
   "outputs": [
    {
     "data": {
      "text/plain": [
       "[('b', 10), ('a', 20), ('d', 40), ('c', 50)]"
      ]
     },
     "execution_count": 83,
     "metadata": {},
     "output_type": "execute_result"
    }
   ],
   "source": [
    "sorted(d2.items(), key= lambda d : d[1])"
   ]
  },
  {
   "cell_type": "markdown",
   "id": "2b35bb40-4aff-4bf5-8b15-1063873c75f3",
   "metadata": {},
   "source": [
    "### Higher order function\n",
    "| Function   | Purpose                               | Input                        | Output                                   | Key Feature                                 |\r\n",
    "|------------|---------------------------------------|------------------------------|-----------------------------------------|---------------------------------------------|\r\n",
    "| **map()**  | Applies a function to each item in an iterable | Function + Iterable          | A new iterable with transformed items   | Transforms each item                        |\r\n",
    "| **filter()** | Filters items based on a condition    | Function (returns bool) + Iterable | A new iterable with items meeting the condition | Selects items that satisfy the condition     |\r\n",
    "| **reduce()** | Reduces an iterable to a single value | Function (2 args) + Iterable | A single cumulative value               | Aggregates items to produce a single result |\r\n"
   ]
  },
  {
   "cell_type": "markdown",
   "id": "969945d6-e706-4820-96b6-bd5c77e3a47c",
   "metadata": {
    "jp-MarkdownHeadingCollapsed": true
   },
   "source": [
    "#### map"
   ]
  },
  {
   "cell_type": "code",
   "execution_count": 84,
   "id": "4dff9a8a-c649-4a99-98d6-0040405b23d2",
   "metadata": {},
   "outputs": [],
   "source": [
    "l = [1,2,3,4,5]"
   ]
  },
  {
   "cell_type": "code",
   "execution_count": 85,
   "id": "2d17ac56-0584-4e9d-8988-5252195a66f6",
   "metadata": {},
   "outputs": [],
   "source": [
    "def test(l):\n",
    "    l1 = []\n",
    "    for i in l:\n",
    "        l1.append(i**2)\n",
    "    return l1"
   ]
  },
  {
   "cell_type": "code",
   "execution_count": 86,
   "id": "ddf4453c-9ff1-4772-9f40-7068c191acf6",
   "metadata": {},
   "outputs": [
    {
     "data": {
      "text/plain": [
       "[1, 4, 9, 16, 25]"
      ]
     },
     "execution_count": 86,
     "metadata": {},
     "output_type": "execute_result"
    }
   ],
   "source": [
    "test(l)"
   ]
  },
  {
   "cell_type": "code",
   "execution_count": 108,
   "id": "0dd7653c-f971-4a1a-b4a3-b7cc4b06d91e",
   "metadata": {},
   "outputs": [],
   "source": [
    "# shorthand of this function"
   ]
  },
  {
   "cell_type": "code",
   "execution_count": 88,
   "id": "7d1fdc08-a569-46f0-90ea-d0858b9b58e8",
   "metadata": {},
   "outputs": [],
   "source": [
    "def sq(x):\n",
    "    return x**2"
   ]
  },
  {
   "cell_type": "code",
   "execution_count": 90,
   "id": "40782dfc-728c-498a-84d8-ab9266aaf1a8",
   "metadata": {},
   "outputs": [
    {
     "data": {
      "text/plain": [
       "[1, 4, 9, 16, 25]"
      ]
     },
     "execution_count": 90,
     "metadata": {},
     "output_type": "execute_result"
    }
   ],
   "source": [
    "list(map(sq, l))"
   ]
  },
  {
   "cell_type": "code",
   "execution_count": 93,
   "id": "f1a6802a-6220-47ed-9284-514ae5ccc314",
   "metadata": {},
   "outputs": [
    {
     "data": {
      "text/plain": [
       "[1, 4, 9, 16, 25]"
      ]
     },
     "execution_count": 93,
     "metadata": {},
     "output_type": "execute_result"
    }
   ],
   "source": [
    "# using lambda \n",
    "list(map(lambda x : x**2, l))"
   ]
  },
  {
   "cell_type": "code",
   "execution_count": 94,
   "id": "0e24e1e6-5834-478c-94d8-6dcc907041b3",
   "metadata": {},
   "outputs": [
    {
     "data": {
      "text/plain": [
       "[11, 12, 13, 14, 15]"
      ]
     },
     "execution_count": 94,
     "metadata": {},
     "output_type": "execute_result"
    }
   ],
   "source": [
    "list(map(lambda x : x+10, l))"
   ]
  },
  {
   "cell_type": "code",
   "execution_count": 95,
   "id": "da506829-8732-40eb-9b12-3d38e85d5a58",
   "metadata": {},
   "outputs": [
    {
     "data": {
      "text/plain": [
       "['1', '2', '3', '4', '5']"
      ]
     },
     "execution_count": 95,
     "metadata": {},
     "output_type": "execute_result"
    }
   ],
   "source": [
    "list(map(lambda x : str(x) , l))"
   ]
  },
  {
   "cell_type": "code",
   "execution_count": 96,
   "id": "b34808b6-25e5-4849-a12a-6bc5269be7aa",
   "metadata": {},
   "outputs": [],
   "source": [
    "# add 2 list elements\n",
    "l1 = [1,2,3,4,5]\n",
    "l2 = [6,7,8,9,10]"
   ]
  },
  {
   "cell_type": "code",
   "execution_count": 97,
   "id": "685b2f75-0ce5-4923-a489-4b5ead8c94eb",
   "metadata": {},
   "outputs": [
    {
     "data": {
      "text/plain": [
       "[1, 2, 3, 4, 5]"
      ]
     },
     "execution_count": 97,
     "metadata": {},
     "output_type": "execute_result"
    }
   ],
   "source": [
    "l1"
   ]
  },
  {
   "cell_type": "code",
   "execution_count": 98,
   "id": "9245dfbf-24ae-4eb0-9e45-fccdc2578637",
   "metadata": {},
   "outputs": [
    {
     "data": {
      "text/plain": [
       "[6, 7, 8, 9, 10]"
      ]
     },
     "execution_count": 98,
     "metadata": {},
     "output_type": "execute_result"
    }
   ],
   "source": [
    "l2"
   ]
  },
  {
   "cell_type": "code",
   "execution_count": 101,
   "id": "20fe193e-79f8-4b9f-a841-f8437e0c92f8",
   "metadata": {},
   "outputs": [
    {
     "data": {
      "text/plain": [
       "[7, 9, 11, 13, 15]"
      ]
     },
     "execution_count": 101,
     "metadata": {},
     "output_type": "execute_result"
    }
   ],
   "source": [
    "list(map(lambda x,y : x+y, l1,l2))"
   ]
  },
  {
   "cell_type": "code",
   "execution_count": 102,
   "id": "c52914ad-6a6f-4002-93d4-c12ae1168531",
   "metadata": {},
   "outputs": [],
   "source": [
    "s = 'zoya naaz'"
   ]
  },
  {
   "cell_type": "code",
   "execution_count": 106,
   "id": "b402a345-6353-4f5c-97d3-4a2c8af15487",
   "metadata": {},
   "outputs": [
    {
     "data": {
      "text/plain": [
       "['Z', 'O', 'Y', 'A', ' ', 'N', 'A', 'A', 'Z']"
      ]
     },
     "execution_count": 106,
     "metadata": {},
     "output_type": "execute_result"
    }
   ],
   "source": [
    "list(map(lambda s : s.upper(), s))"
   ]
  },
  {
   "cell_type": "markdown",
   "id": "508470a8-c9c6-4a77-8965-11969a850c67",
   "metadata": {
    "jp-MarkdownHeadingCollapsed": true
   },
   "source": [
    "#### reduce"
   ]
  },
  {
   "cell_type": "code",
   "execution_count": 109,
   "id": "316f8839-9350-400d-8c3d-198504276314",
   "metadata": {},
   "outputs": [],
   "source": [
    "from functools import reduce"
   ]
  },
  {
   "cell_type": "code",
   "execution_count": 110,
   "id": "872827f1-dfec-41a9-a47f-dbc992e49aad",
   "metadata": {},
   "outputs": [
    {
     "data": {
      "text/plain": [
       "[1, 2, 3, 4, 5]"
      ]
     },
     "execution_count": 110,
     "metadata": {},
     "output_type": "execute_result"
    }
   ],
   "source": [
    "l"
   ]
  },
  {
   "cell_type": "code",
   "execution_count": 113,
   "id": "6559e812-7bd7-499e-8da5-99f1f883481e",
   "metadata": {},
   "outputs": [
    {
     "data": {
      "text/plain": [
       "15"
      ]
     },
     "execution_count": 113,
     "metadata": {},
     "output_type": "execute_result"
    }
   ],
   "source": [
    "reduce(lambda x,y : x+y , l)"
   ]
  },
  {
   "cell_type": "code",
   "execution_count": 115,
   "id": "7fb03877-e341-483e-bafe-173350b7cff5",
   "metadata": {},
   "outputs": [
    {
     "data": {
      "text/plain": [
       "6"
      ]
     },
     "execution_count": 115,
     "metadata": {},
     "output_type": "execute_result"
    }
   ],
   "source": [
    "reduce(lambda x, y : x*y, [6]) # exception case"
   ]
  },
  {
   "cell_type": "code",
   "execution_count": 117,
   "id": "ba8626ba-bd86-4b16-96da-b876eea05818",
   "metadata": {},
   "outputs": [
    {
     "data": {
      "text/plain": [
       "5"
      ]
     },
     "execution_count": 117,
     "metadata": {},
     "output_type": "execute_result"
    }
   ],
   "source": [
    "# max from a list\n",
    "reduce(lambda x,y : x if x > y else y, l)"
   ]
  },
  {
   "cell_type": "markdown",
   "id": "b9d13e1b-b524-4fe2-8308-2b3cf9ad6443",
   "metadata": {},
   "source": [
    "#### filter"
   ]
  },
  {
   "cell_type": "code",
   "execution_count": 120,
   "id": "a9f4735f-3539-4b2a-851a-3f5b763465de",
   "metadata": {},
   "outputs": [
    {
     "data": {
      "text/plain": [
       "[1, 2, 3, 4, 5]"
      ]
     },
     "execution_count": 120,
     "metadata": {},
     "output_type": "execute_result"
    }
   ],
   "source": [
    "l"
   ]
  },
  {
   "cell_type": "code",
   "execution_count": 119,
   "id": "7817f42c-a6e3-4bdd-b3f3-1b25ea687bd9",
   "metadata": {},
   "outputs": [
    {
     "data": {
      "text/plain": [
       "[1, 2, 3]"
      ]
     },
     "execution_count": 119,
     "metadata": {},
     "output_type": "execute_result"
    }
   ],
   "source": [
    "list(filter(lambda x : x < 4, l))"
   ]
  },
  {
   "cell_type": "code",
   "execution_count": 121,
   "id": "d7a031b3-fc9a-49eb-9497-c75b885a1487",
   "metadata": {},
   "outputs": [],
   "source": [
    "s = 'my name is zoya'"
   ]
  },
  {
   "cell_type": "code",
   "execution_count": 127,
   "id": "0f73177e-e79b-41ae-9b7b-0b06cb4efabc",
   "metadata": {},
   "outputs": [
    {
     "data": {
      "text/plain": [
       "[' ', ' ', ' ']"
      ]
     },
     "execution_count": 127,
     "metadata": {},
     "output_type": "execute_result"
    }
   ],
   "source": [
    "list(filter(lambda x : x == ' ' , s))"
   ]
  },
  {
   "cell_type": "code",
   "execution_count": 130,
   "id": "99c6d9ed-122e-4aef-84b9-6ff3cd7898e6",
   "metadata": {},
   "outputs": [],
   "source": [
    "l.append(6)"
   ]
  },
  {
   "cell_type": "code",
   "execution_count": 131,
   "id": "a74ebbc6-9278-4eae-870e-9c5f29519ded",
   "metadata": {},
   "outputs": [
    {
     "data": {
      "text/plain": [
       "[2, 4, 6]"
      ]
     },
     "execution_count": 131,
     "metadata": {},
     "output_type": "execute_result"
    }
   ],
   "source": [
    "# filter even no\n",
    "list(filter(lambda x : x%2==0, l))"
   ]
  },
  {
   "cell_type": "code",
   "execution_count": 132,
   "id": "0dbbd952-dff6-400c-ac23-39a59fd74191",
   "metadata": {},
   "outputs": [
    {
     "data": {
      "text/plain": [
       "[1, 3, 5]"
      ]
     },
     "execution_count": 132,
     "metadata": {},
     "output_type": "execute_result"
    }
   ],
   "source": [
    "# filter odd no\n",
    "list(filter(lambda x : x%2!=0, l))"
   ]
  },
  {
   "cell_type": "code",
   "execution_count": 133,
   "id": "9d38dcc1-3738-4f08-9b70-d70ff05c40eb",
   "metadata": {},
   "outputs": [],
   "source": [
    "l1 = [-1,-3,5,6,-7,4,-5]"
   ]
  },
  {
   "cell_type": "code",
   "execution_count": 136,
   "id": "e166b223-074f-4814-8394-db6f6ba4ab13",
   "metadata": {},
   "outputs": [
    {
     "data": {
      "text/plain": [
       "[-1, -3, -7, -5]"
      ]
     },
     "execution_count": 136,
     "metadata": {},
     "output_type": "execute_result"
    }
   ],
   "source": [
    "# filter -ve no\n",
    "list(filter(lambda x : x < 0, l1))"
   ]
  },
  {
   "cell_type": "code",
   "execution_count": 137,
   "id": "230d5fd8-aadb-4171-9f10-1be6d5ff2c4a",
   "metadata": {},
   "outputs": [
    {
     "data": {
      "text/plain": [
       "[5, 6, 4]"
      ]
     },
     "execution_count": 137,
     "metadata": {},
     "output_type": "execute_result"
    }
   ],
   "source": [
    "# filter +ve no\n",
    "list(filter(lambda x : x > 0, l1))"
   ]
  },
  {
   "cell_type": "code",
   "execution_count": 138,
   "id": "ab989c83-29e0-49c6-ac2a-923c784d6a22",
   "metadata": {},
   "outputs": [],
   "source": [
    "l3 = ['sudh', 'krish', 'bengalore', 'hitesh']"
   ]
  },
  {
   "cell_type": "code",
   "execution_count": 139,
   "id": "4bfcb138-0628-4499-bd87-d8fdea2fc83a",
   "metadata": {},
   "outputs": [
    {
     "data": {
      "text/plain": [
       "['sudh', 'krish']"
      ]
     },
     "execution_count": 139,
     "metadata": {},
     "output_type": "execute_result"
    }
   ],
   "source": [
    "list(filter(lambda x : len(x) < 6, l3))"
   ]
  },
  {
   "cell_type": "code",
   "execution_count": null,
   "id": "1805d59f-88de-47b0-8462-621cfadd2085",
   "metadata": {},
   "outputs": [],
   "source": []
  }
 ],
 "metadata": {
  "kernelspec": {
   "display_name": "Python 3 (ipykernel)",
   "language": "python",
   "name": "python3"
  },
  "language_info": {
   "codemirror_mode": {
    "name": "ipython",
    "version": 3
   },
   "file_extension": ".py",
   "mimetype": "text/x-python",
   "name": "python",
   "nbconvert_exporter": "python",
   "pygments_lexer": "ipython3",
   "version": "3.11.5"
  }
 },
 "nbformat": 4,
 "nbformat_minor": 5
}
