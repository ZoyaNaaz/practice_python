{
 "cells": [
  {
   "cell_type": "markdown",
   "id": "9bbaf666-e105-40e5-bd70-15fdf9822c8c",
   "metadata": {
    "jp-MarkdownHeadingCollapsed": true
   },
   "source": [
    "### list"
   ]
  },
  {
   "cell_type": "code",
   "execution_count": 131,
   "id": "2e600ec2-9ee2-4030-b947-4950bf954e82",
   "metadata": {},
   "outputs": [],
   "source": [
    "num = [1,2,3,44,55,55]"
   ]
  },
  {
   "cell_type": "code",
   "execution_count": 132,
   "id": "462cced9-9fc1-49f3-b128-845171751962",
   "metadata": {},
   "outputs": [
    {
     "data": {
      "text/plain": [
       "[1, 2, 3, 44, 55, 55]"
      ]
     },
     "execution_count": 132,
     "metadata": {},
     "output_type": "execute_result"
    }
   ],
   "source": [
    "num"
   ]
  },
  {
   "cell_type": "code",
   "execution_count": 133,
   "id": "46905629-701d-4249-9a5d-9e02fcde6602",
   "metadata": {},
   "outputs": [
    {
     "data": {
      "text/plain": [
       "list"
      ]
     },
     "execution_count": 133,
     "metadata": {},
     "output_type": "execute_result"
    }
   ],
   "source": [
    "type(num)"
   ]
  },
  {
   "cell_type": "code",
   "execution_count": 134,
   "id": "27b3c46e-59b1-4f88-922e-0509d9592c52",
   "metadata": {},
   "outputs": [],
   "source": [
    "num1 = [10]* 5"
   ]
  },
  {
   "cell_type": "code",
   "execution_count": 135,
   "id": "547b8540-d39d-4fa5-96ef-4edfce0b14ec",
   "metadata": {},
   "outputs": [
    {
     "data": {
      "text/plain": [
       "[10, 10, 10, 10, 10]"
      ]
     },
     "execution_count": 135,
     "metadata": {},
     "output_type": "execute_result"
    }
   ],
   "source": [
    "num1"
   ]
  },
  {
   "cell_type": "code",
   "execution_count": 136,
   "id": "84caa819-6497-43e9-b693-92881ae3766c",
   "metadata": {},
   "outputs": [
    {
     "name": "stdout",
     "output_type": "stream",
     "text": [
      "[1, 2, 3, 44, 55, 55]\n"
     ]
    }
   ],
   "source": [
    "print(num)"
   ]
  },
  {
   "cell_type": "code",
   "execution_count": 137,
   "id": "3ba45c79-9f31-4c58-9130-bb62403b0045",
   "metadata": {},
   "outputs": [
    {
     "data": {
      "text/plain": [
       "10"
      ]
     },
     "execution_count": 137,
     "metadata": {},
     "output_type": "execute_result"
    }
   ],
   "source": [
    "num1[0]"
   ]
  },
  {
   "cell_type": "code",
   "execution_count": 138,
   "id": "57f4e330-d7ad-435a-8aea-f54236a31f32",
   "metadata": {},
   "outputs": [
    {
     "name": "stdout",
     "output_type": "stream",
     "text": [
      "[3, 44]\n"
     ]
    }
   ],
   "source": [
    "print(num[2: 4])"
   ]
  },
  {
   "cell_type": "code",
   "execution_count": 139,
   "id": "2d4acdb6-fba8-49cc-8bdf-524a02adb026",
   "metadata": {},
   "outputs": [],
   "source": [
    "animals = ['Zebra', 'Tiger', 'Lion', 'Jackal', 'Kangaroo']"
   ]
  },
  {
   "cell_type": "code",
   "execution_count": 140,
   "id": "2c1b373e-1310-4709-ac00-36818349e0d5",
   "metadata": {},
   "outputs": [
    {
     "name": "stdout",
     "output_type": "stream",
     "text": [
      "0 Zebra\n",
      "1 Tiger\n",
      "2 Lion\n",
      "3 Jackal\n",
      "4 Kangaroo\n"
     ]
    }
   ],
   "source": [
    "for index, ele in enumerate(animals):\n",
    "    print(index, ele)"
   ]
  },
  {
   "cell_type": "code",
   "execution_count": 141,
   "id": "38bbf4d0-f0f0-4213-881a-5ecaaefd32ef",
   "metadata": {},
   "outputs": [
    {
     "name": "stdout",
     "output_type": "stream",
     "text": [
      "0 1\n",
      "1 2\n",
      "2 3\n",
      "3 44\n",
      "4 55\n",
      "5 55\n"
     ]
    }
   ],
   "source": [
    "for i, j in enumerate(num):\n",
    "    print(i, j)"
   ]
  },
  {
   "cell_type": "code",
   "execution_count": 142,
   "id": "6bdbeeac-8071-497c-b937-ab9637f88411",
   "metadata": {},
   "outputs": [],
   "source": [
    "num[5] = 9"
   ]
  },
  {
   "cell_type": "code",
   "execution_count": 143,
   "id": "5a158354-94d6-440c-9236-f7ec5510f7f7",
   "metadata": {},
   "outputs": [
    {
     "data": {
      "text/plain": [
       "[1, 2, 3, 44, 55, 9]"
      ]
     },
     "execution_count": 143,
     "metadata": {},
     "output_type": "execute_result"
    }
   ],
   "source": [
    "num"
   ]
  },
  {
   "cell_type": "code",
   "execution_count": 144,
   "id": "7cd79ab9-2834-4b1b-b9d2-8e5ed3c89859",
   "metadata": {},
   "outputs": [],
   "source": [
    "num[2:4] = []"
   ]
  },
  {
   "cell_type": "code",
   "execution_count": 145,
   "id": "38729df5-b2a9-47ec-a581-683c5f1ddf68",
   "metadata": {},
   "outputs": [
    {
     "data": {
      "text/plain": [
       "[1, 2, 55, 9]"
      ]
     },
     "execution_count": 145,
     "metadata": {},
     "output_type": "execute_result"
    }
   ],
   "source": [
    "num"
   ]
  },
  {
   "cell_type": "code",
   "execution_count": 146,
   "id": "e507b246-635e-4c8b-af1f-4e1aa3551a2b",
   "metadata": {},
   "outputs": [],
   "source": [
    "num[4:] = [3,44]"
   ]
  },
  {
   "cell_type": "code",
   "execution_count": 147,
   "id": "b53d63a9-ed68-4d6d-816c-d2b02d3c936b",
   "metadata": {},
   "outputs": [
    {
     "data": {
      "text/plain": [
       "[1, 2, 55, 9, 3, 44]"
      ]
     },
     "execution_count": 147,
     "metadata": {},
     "output_type": "execute_result"
    }
   ],
   "source": [
    "num"
   ]
  },
  {
   "cell_type": "code",
   "execution_count": 148,
   "id": "c2c5b38c-382d-44d3-83d7-fb8b88f492de",
   "metadata": {},
   "outputs": [],
   "source": [
    "num[2:5] = [3,2,1]"
   ]
  },
  {
   "cell_type": "code",
   "execution_count": 149,
   "id": "41fe8480-2e02-4ec0-ab10-24bf37bd1ca3",
   "metadata": {},
   "outputs": [
    {
     "data": {
      "text/plain": [
       "[1, 2, 3, 2, 1, 44]"
      ]
     },
     "execution_count": 149,
     "metadata": {},
     "output_type": "execute_result"
    }
   ],
   "source": [
    "num"
   ]
  },
  {
   "cell_type": "code",
   "execution_count": 150,
   "id": "ec25d7b9-0f5e-4aca-94ab-fdf24ece80a8",
   "metadata": {},
   "outputs": [
    {
     "data": {
      "text/plain": [
       "[1, 2, 3, 2, 1, 44, 10, 10, 10, 10, 10]"
      ]
     },
     "execution_count": 150,
     "metadata": {},
     "output_type": "execute_result"
    }
   ],
   "source": [
    "num + num1"
   ]
  },
  {
   "cell_type": "code",
   "execution_count": 151,
   "id": "80f6ef7f-a5d2-41f7-805e-c99a9b13057f",
   "metadata": {},
   "outputs": [],
   "source": [
    "s = 'my name is zoya naaz'\n",
    "l = list(s.split(' '))"
   ]
  },
  {
   "cell_type": "code",
   "execution_count": 152,
   "id": "644f35d4-c991-40de-87a8-fa32c1af7dc2",
   "metadata": {},
   "outputs": [
    {
     "data": {
      "text/plain": [
       "['my', 'name', 'is', 'zoya', 'naaz']"
      ]
     },
     "execution_count": 152,
     "metadata": {},
     "output_type": "execute_result"
    }
   ],
   "source": [
    "l"
   ]
  },
  {
   "cell_type": "code",
   "execution_count": 153,
   "id": "2e8f867c-35ff-4871-b48e-44f32b992e68",
   "metadata": {},
   "outputs": [],
   "source": [
    "num2 = num1"
   ]
  },
  {
   "cell_type": "code",
   "execution_count": 154,
   "id": "d5059ddd-6dc1-42c6-a22b-792cdd02bad1",
   "metadata": {},
   "outputs": [
    {
     "data": {
      "text/plain": [
       "2391490458368"
      ]
     },
     "execution_count": 154,
     "metadata": {},
     "output_type": "execute_result"
    }
   ],
   "source": [
    "id(num1)"
   ]
  },
  {
   "cell_type": "code",
   "execution_count": 155,
   "id": "20140dea-587e-4c37-89cc-bf7c43905372",
   "metadata": {},
   "outputs": [
    {
     "data": {
      "text/plain": [
       "2391490458368"
      ]
     },
     "execution_count": 155,
     "metadata": {},
     "output_type": "execute_result"
    }
   ],
   "source": [
    "id(num2)"
   ]
  },
  {
   "cell_type": "code",
   "execution_count": 156,
   "id": "b1cd0381-78b5-4d4f-8443-98e6fdc7e58e",
   "metadata": {},
   "outputs": [],
   "source": [
    "num3 = []"
   ]
  },
  {
   "cell_type": "code",
   "execution_count": 157,
   "id": "b9f79de6-538e-407c-97d7-ac8442392bf2",
   "metadata": {},
   "outputs": [],
   "source": [
    "num3 = num3 + num1"
   ]
  },
  {
   "cell_type": "code",
   "execution_count": 158,
   "id": "faadc520-7978-4935-a9a7-be1fd49204d4",
   "metadata": {},
   "outputs": [
    {
     "data": {
      "text/plain": [
       "False"
      ]
     },
     "execution_count": 158,
     "metadata": {},
     "output_type": "execute_result"
    }
   ],
   "source": [
    "num3 is num1"
   ]
  },
  {
   "cell_type": "code",
   "execution_count": 159,
   "id": "c5d2e4cf-dd1d-4a81-85c4-548ced2b43f5",
   "metadata": {},
   "outputs": [
    {
     "data": {
      "text/plain": [
       "[1, 2, 3, 2, 1, 44]"
      ]
     },
     "execution_count": 159,
     "metadata": {},
     "output_type": "execute_result"
    }
   ],
   "source": [
    "num"
   ]
  },
  {
   "cell_type": "code",
   "execution_count": 160,
   "id": "1c3bc298-02c6-430b-b017-3117139dda42",
   "metadata": {},
   "outputs": [
    {
     "data": {
      "text/plain": [
       "True"
      ]
     },
     "execution_count": 160,
     "metadata": {},
     "output_type": "execute_result"
    }
   ],
   "source": [
    "3 in num"
   ]
  },
  {
   "cell_type": "code",
   "execution_count": 161,
   "id": "6c80c8c7-a52e-468e-b787-e7f612e4634d",
   "metadata": {},
   "outputs": [
    {
     "data": {
      "text/plain": [
       "True"
      ]
     },
     "execution_count": 161,
     "metadata": {},
     "output_type": "execute_result"
    }
   ],
   "source": [
    "0 not in num"
   ]
  },
  {
   "cell_type": "code",
   "execution_count": 162,
   "id": "87bc9660-d162-4269-8ab7-9400d0875fb7",
   "metadata": {},
   "outputs": [
    {
     "data": {
      "text/plain": [
       "5"
      ]
     },
     "execution_count": 162,
     "metadata": {},
     "output_type": "execute_result"
    }
   ],
   "source": [
    "len(num1)"
   ]
  },
  {
   "cell_type": "code",
   "execution_count": 163,
   "id": "42fdf15f-5912-4d47-96be-9742399b48ac",
   "metadata": {},
   "outputs": [],
   "source": [
    "num[6:] = [0]"
   ]
  },
  {
   "cell_type": "code",
   "execution_count": 164,
   "id": "e9caa7d9-95c0-4c8d-8505-dff514b7600e",
   "metadata": {},
   "outputs": [
    {
     "data": {
      "text/plain": [
       "True"
      ]
     },
     "execution_count": 164,
     "metadata": {},
     "output_type": "execute_result"
    }
   ],
   "source": [
    "any(num)"
   ]
  },
  {
   "cell_type": "code",
   "execution_count": 165,
   "id": "2b21bdb2-f138-4562-a3cc-21c5a339d1dd",
   "metadata": {},
   "outputs": [
    {
     "data": {
      "text/plain": [
       "False"
      ]
     },
     "execution_count": 165,
     "metadata": {},
     "output_type": "execute_result"
    }
   ],
   "source": [
    "all(num)"
   ]
  },
  {
   "cell_type": "code",
   "execution_count": 182,
   "id": "ccc04d60-b635-41e8-ae53-8e6aeb90e893",
   "metadata": {},
   "outputs": [
    {
     "data": {
      "text/plain": [
       "[1, 2, 3, 2, 1, 0, 23]"
      ]
     },
     "execution_count": 182,
     "metadata": {},
     "output_type": "execute_result"
    }
   ],
   "source": [
    "num"
   ]
  },
  {
   "cell_type": "code",
   "execution_count": 174,
   "id": "40eba172-5c94-4429-8b2a-ee6bbbd90d26",
   "metadata": {},
   "outputs": [],
   "source": [
    "num.append(23)"
   ]
  },
  {
   "cell_type": "code",
   "execution_count": 177,
   "id": "ec4ba534-4c51-4572-aa55-82f06e731531",
   "metadata": {},
   "outputs": [],
   "source": [
    "num.remove(44)"
   ]
  },
  {
   "cell_type": "code",
   "execution_count": 179,
   "id": "e8aaa1c9-0c1e-4e6b-8730-be9de7d56cff",
   "metadata": {},
   "outputs": [
    {
     "data": {
      "text/plain": [
       "2"
      ]
     },
     "execution_count": 179,
     "metadata": {},
     "output_type": "execute_result"
    }
   ],
   "source": [
    "num.pop(1)"
   ]
  },
  {
   "cell_type": "code",
   "execution_count": 181,
   "id": "2e55f57a-85c8-4467-8c6a-88edc2e8c391",
   "metadata": {},
   "outputs": [],
   "source": [
    "num.insert(1, 2)"
   ]
  },
  {
   "cell_type": "code",
   "execution_count": 185,
   "id": "45563a5f-7051-42ef-8245-331e5ff2e657",
   "metadata": {},
   "outputs": [
    {
     "data": {
      "text/plain": [
       "6"
      ]
     },
     "execution_count": 185,
     "metadata": {},
     "output_type": "execute_result"
    }
   ],
   "source": [
    "num.index(23)"
   ]
  },
  {
   "cell_type": "code",
   "execution_count": 186,
   "id": "b4f5aef6-dad9-4e13-911a-2e318aef58a2",
   "metadata": {},
   "outputs": [
    {
     "data": {
      "text/plain": [
       "[1, 2, 3, 2, 1, 0, 23]"
      ]
     },
     "execution_count": 186,
     "metadata": {},
     "output_type": "execute_result"
    }
   ],
   "source": [
    "num"
   ]
  },
  {
   "cell_type": "code",
   "execution_count": 191,
   "id": "a6740ad5-22c7-462d-b8bd-e2b4b5079d62",
   "metadata": {},
   "outputs": [],
   "source": [
    "num.sort(reverse = True)"
   ]
  },
  {
   "cell_type": "code",
   "execution_count": 192,
   "id": "d366ee0a-ac14-4dc6-bef7-8a53ce662f5a",
   "metadata": {},
   "outputs": [
    {
     "data": {
      "text/plain": [
       "[23, 3, 2, 2, 1, 1, 0]"
      ]
     },
     "execution_count": 192,
     "metadata": {},
     "output_type": "execute_result"
    }
   ],
   "source": [
    "num"
   ]
  },
  {
   "cell_type": "code",
   "execution_count": 193,
   "id": "f4d45748-4bac-4cca-9385-79d66dc95e93",
   "metadata": {},
   "outputs": [],
   "source": [
    "num.reverse()"
   ]
  },
  {
   "cell_type": "code",
   "execution_count": 194,
   "id": "1f1b68a2-c2cd-4eb6-a4ea-6929ec885d4d",
   "metadata": {},
   "outputs": [
    {
     "data": {
      "text/plain": [
       "[0, 1, 1, 2, 2, 3, 23]"
      ]
     },
     "execution_count": 194,
     "metadata": {},
     "output_type": "execute_result"
    }
   ],
   "source": [
    "num"
   ]
  },
  {
   "cell_type": "code",
   "execution_count": 201,
   "id": "51e6c14a-bf18-40d8-9104-8348b1aac770",
   "metadata": {},
   "outputs": [],
   "source": [
    "li = sorted(num)"
   ]
  },
  {
   "cell_type": "code",
   "execution_count": 202,
   "id": "546f0a43-9548-444d-b49d-14bbb2bdc23c",
   "metadata": {},
   "outputs": [
    {
     "name": "stdout",
     "output_type": "stream",
     "text": [
      "0\n",
      "1\n",
      "1\n",
      "2\n",
      "2\n",
      "3\n",
      "23\n"
     ]
    }
   ],
   "source": [
    "for i in li:\n",
    "    print(i)"
   ]
  },
  {
   "cell_type": "code",
   "execution_count": 203,
   "id": "bcc860ae-f0fe-4208-a322-16aef4c28f13",
   "metadata": {},
   "outputs": [
    {
     "data": {
      "text/plain": [
       "[0, 1, 1, 2, 2, 3, 23]"
      ]
     },
     "execution_count": 203,
     "metadata": {},
     "output_type": "execute_result"
    }
   ],
   "source": [
    "num"
   ]
  },
  {
   "cell_type": "code",
   "execution_count": 204,
   "id": "398043cb-c5d7-4062-ab14-b75bdfa0cc10",
   "metadata": {},
   "outputs": [
    {
     "data": {
      "text/plain": [
       "[23, 3, 2, 2, 1, 1, 0]"
      ]
     },
     "execution_count": 204,
     "metadata": {},
     "output_type": "execute_result"
    }
   ],
   "source": [
    "num[::-1]"
   ]
  },
  {
   "cell_type": "code",
   "execution_count": 205,
   "id": "59e5b614-21eb-44d0-91d1-c2842b8ef9dd",
   "metadata": {},
   "outputs": [],
   "source": [
    "num6 = [[1,2,3], [4,5,6], [7,8,9]]"
   ]
  },
  {
   "cell_type": "code",
   "execution_count": 206,
   "id": "c80b925a-c4c0-4dbd-aeb7-b4adde3946e7",
   "metadata": {},
   "outputs": [
    {
     "data": {
      "text/plain": [
       "[[1, 2, 3], [4, 5, 6], [7, 8, 9]]"
      ]
     },
     "execution_count": 206,
     "metadata": {},
     "output_type": "execute_result"
    }
   ],
   "source": [
    "num6"
   ]
  },
  {
   "cell_type": "code",
   "execution_count": 207,
   "id": "fec1325b-5f53-4098-9631-c5fcbb830adb",
   "metadata": {},
   "outputs": [
    {
     "name": "stdout",
     "output_type": "stream",
     "text": [
      "[[1, 2, 3], [4, 5, 6], [7, 8, 9]]\n"
     ]
    }
   ],
   "source": [
    "print(num6)"
   ]
  },
  {
   "cell_type": "code",
   "execution_count": 210,
   "id": "bcb1f1c6-1ff8-4442-bb2d-fe01f194c797",
   "metadata": {},
   "outputs": [
    {
     "name": "stdout",
     "output_type": "stream",
     "text": [
      "[1, 2, 3]\n",
      "[4, 5, 6]\n",
      "[7, 8, 9]\n"
     ]
    }
   ],
   "source": [
    "for i in num6:\n",
    "    print(i)"
   ]
  },
  {
   "cell_type": "code",
   "execution_count": 211,
   "id": "765566d8-6ad6-49a3-8e3f-811eef41c1fc",
   "metadata": {},
   "outputs": [],
   "source": [
    "lst = num"
   ]
  },
  {
   "cell_type": "code",
   "execution_count": 212,
   "id": "6f72a984-8a80-4826-aec8-ffb8c47e1827",
   "metadata": {},
   "outputs": [
    {
     "data": {
      "text/plain": [
       "[0, 1, 1, 2, 2, 3, 23]"
      ]
     },
     "execution_count": 212,
     "metadata": {},
     "output_type": "execute_result"
    }
   ],
   "source": [
    "lst"
   ]
  },
  {
   "cell_type": "code",
   "execution_count": 216,
   "id": "0cac938d-8ec2-4075-83fa-95224bf7f9ef",
   "metadata": {},
   "outputs": [],
   "source": [
    "lst2 = [2, 4, 6, *lst]"
   ]
  },
  {
   "cell_type": "code",
   "execution_count": 217,
   "id": "6865d772-d72d-4165-80ba-6db5dd16553e",
   "metadata": {},
   "outputs": [
    {
     "data": {
      "text/plain": [
       "[2, 4, 6, 0, 1, 1, 2, 2, 3, 23]"
      ]
     },
     "execution_count": 217,
     "metadata": {},
     "output_type": "execute_result"
    }
   ],
   "source": [
    "lst2"
   ]
  },
  {
   "cell_type": "code",
   "execution_count": 218,
   "id": "d360c9db-a04e-4829-9b1c-ad034bd0844d",
   "metadata": {},
   "outputs": [
    {
     "name": "stdout",
     "output_type": "stream",
     "text": [
      "2\n",
      "4\n",
      "6\n",
      "0\n",
      "1\n",
      "1\n",
      "2\n",
      "2\n",
      "3\n",
      "23\n"
     ]
    }
   ],
   "source": [
    "for i in lst2:\n",
    "    print(i)"
   ]
  },
  {
   "cell_type": "code",
   "execution_count": 225,
   "id": "99727ae3-9a10-42f1-a25e-842e1564d766",
   "metadata": {},
   "outputs": [],
   "source": [
    "s = 'Hello'\n",
    "lst3 = [*s]"
   ]
  },
  {
   "cell_type": "code",
   "execution_count": 226,
   "id": "a2731f36-bae3-4bc3-9e3b-b6f6dfe6ae56",
   "metadata": {},
   "outputs": [
    {
     "data": {
      "text/plain": [
       "['H', 'e', 'l', 'l', 'o']"
      ]
     },
     "execution_count": 226,
     "metadata": {},
     "output_type": "execute_result"
    }
   ],
   "source": [
    "lst3"
   ]
  },
  {
   "cell_type": "code",
   "execution_count": 4,
   "id": "98f1e659-cda4-49f9-933b-92bf5debe69c",
   "metadata": {},
   "outputs": [],
   "source": [
    "import random"
   ]
  },
  {
   "cell_type": "code",
   "execution_count": 231,
   "id": "fc39a8b5-ac65-45f5-9fb9-2f56b4c8105b",
   "metadata": {},
   "outputs": [],
   "source": [
    "n1 = random.randint(10, 100)"
   ]
  },
  {
   "cell_type": "code",
   "execution_count": 2,
   "id": "6dc2d52b-1a7a-421e-90d0-5625d7a21bc2",
   "metadata": {},
   "outputs": [],
   "source": [
    "lst4 = []"
   ]
  },
  {
   "cell_type": "code",
   "execution_count": 5,
   "id": "ed1ccbf3-4420-40c5-970e-663fd610e444",
   "metadata": {},
   "outputs": [],
   "source": [
    "i = 1\n",
    "while i <= 20:\n",
    "    n = random.randint(10, 100)\n",
    "    lst4.append(n)\n",
    "    i+=1"
   ]
  },
  {
   "cell_type": "code",
   "execution_count": 7,
   "id": "7492aee2-b2ca-4c3d-942a-a4a67ebd8f6b",
   "metadata": {},
   "outputs": [
    {
     "name": "stdout",
     "output_type": "stream",
     "text": [
      "[63, 46, 65, 97, 88, 29, 11, 96, 31, 49, 20, 86, 74, 88, 86, 37, 58, 47, 74, 94]\n"
     ]
    }
   ],
   "source": [
    "print(lst4)"
   ]
  },
  {
   "cell_type": "code",
   "execution_count": 8,
   "id": "91677f16-48bc-4dd4-8211-4ef7617c5f2e",
   "metadata": {},
   "outputs": [],
   "source": [
    "for i in lst4:\n",
    "    if i >=20 and i <=50:\n",
    "        lst4.remove(i)"
   ]
  },
  {
   "cell_type": "code",
   "execution_count": 9,
   "id": "4860a4fe-dd7d-48b5-be6f-721314bacbbc",
   "metadata": {},
   "outputs": [
    {
     "name": "stdout",
     "output_type": "stream",
     "text": [
      "[63, 65, 97, 88, 11, 96, 49, 86, 74, 88, 86, 58, 74, 94]\n"
     ]
    }
   ],
   "source": [
    "print(lst4)"
   ]
  },
  {
   "cell_type": "markdown",
   "id": "de466b34-edea-446a-b177-10c7b857834f",
   "metadata": {
    "jp-MarkdownHeadingCollapsed": true
   },
   "source": [
    "### Tuples"
   ]
  },
  {
   "cell_type": "code",
   "execution_count": 1,
   "id": "ac90cb5a-aec5-473f-9f19-2900909a7a2c",
   "metadata": {},
   "outputs": [],
   "source": [
    "t = ('amit',1,3,'a', 5,6)"
   ]
  },
  {
   "cell_type": "code",
   "execution_count": 2,
   "id": "fee19421-1637-4d2e-b4d4-1678ec3acd42",
   "metadata": {},
   "outputs": [
    {
     "data": {
      "text/plain": [
       "('amit', 1, 3, 'a', 5, 6)"
      ]
     },
     "execution_count": 2,
     "metadata": {},
     "output_type": "execute_result"
    }
   ],
   "source": [
    "t"
   ]
  },
  {
   "cell_type": "code",
   "execution_count": 6,
   "id": "88080ee7-fe4f-45da-9f9a-dce5efcdcdfb",
   "metadata": {},
   "outputs": [],
   "source": [
    "a = (10,)"
   ]
  },
  {
   "cell_type": "code",
   "execution_count": 7,
   "id": "65711033-07d8-4c28-a0b0-d63643e05335",
   "metadata": {},
   "outputs": [
    {
     "data": {
      "text/plain": [
       "tuple"
      ]
     },
     "execution_count": 7,
     "metadata": {},
     "output_type": "execute_result"
    }
   ],
   "source": [
    "type(a)"
   ]
  },
  {
   "cell_type": "code",
   "execution_count": 39,
   "id": "73a429b4-8188-418a-a255-f6aac1f85a96",
   "metadata": {},
   "outputs": [],
   "source": [
    "c = 1, 3, 5, 6, 1, 3, 1"
   ]
  },
  {
   "cell_type": "code",
   "execution_count": 14,
   "id": "a94c5bea-6270-4da7-8adc-796f66dec3a0",
   "metadata": {},
   "outputs": [
    {
     "data": {
      "text/plain": [
       "tuple"
      ]
     },
     "execution_count": 14,
     "metadata": {},
     "output_type": "execute_result"
    }
   ],
   "source": [
    "type(c)"
   ]
  },
  {
   "cell_type": "code",
   "execution_count": 15,
   "id": "a128ab5f-d55d-44f3-af35-aa6aa72c370c",
   "metadata": {},
   "outputs": [
    {
     "data": {
      "text/plain": [
       "('amit', 1, 3, 'a', 5, 6)"
      ]
     },
     "execution_count": 15,
     "metadata": {},
     "output_type": "execute_result"
    }
   ],
   "source": [
    "c"
   ]
  },
  {
   "cell_type": "code",
   "execution_count": 18,
   "id": "b0737cee-3b4f-4982-b7fb-0de439ecf229",
   "metadata": {},
   "outputs": [
    {
     "data": {
      "text/plain": [
       "('amit', 1, 3, 'a', 5, 6)"
      ]
     },
     "execution_count": 18,
     "metadata": {},
     "output_type": "execute_result"
    }
   ],
   "source": [
    "c"
   ]
  },
  {
   "cell_type": "code",
   "execution_count": 20,
   "id": "d7c298ac-3619-4af3-aa35-66efb5e14262",
   "metadata": {},
   "outputs": [
    {
     "data": {
      "text/plain": [
       "(3, 'a', 5, 6)"
      ]
     },
     "execution_count": 20,
     "metadata": {},
     "output_type": "execute_result"
    }
   ],
   "source": [
    "c[2:]"
   ]
  },
  {
   "cell_type": "code",
   "execution_count": 21,
   "id": "af324318-5d63-4630-8090-b70cc453a7a6",
   "metadata": {},
   "outputs": [
    {
     "name": "stdout",
     "output_type": "stream",
     "text": [
      "0 amit\n",
      "1 1\n",
      "2 3\n",
      "3 a\n",
      "4 5\n",
      "5 6\n"
     ]
    }
   ],
   "source": [
    "for i, n in enumerate(c):\n",
    "    print(i, n)"
   ]
  },
  {
   "cell_type": "code",
   "execution_count": 22,
   "id": "2d518ecf-a0a3-4bae-8b00-43340eb9c079",
   "metadata": {},
   "outputs": [],
   "source": [
    "tpl = ([1,2,3], 'zoya', [3,4,6])"
   ]
  },
  {
   "cell_type": "code",
   "execution_count": 23,
   "id": "e885c36c-818b-4f0d-9137-90048cf8593f",
   "metadata": {},
   "outputs": [
    {
     "data": {
      "text/plain": [
       "([1, 2, 3], 'zoya', [3, 4, 6])"
      ]
     },
     "execution_count": 23,
     "metadata": {},
     "output_type": "execute_result"
    }
   ],
   "source": [
    "tpl"
   ]
  },
  {
   "cell_type": "code",
   "execution_count": 27,
   "id": "d13f74b7-7eb2-4c78-8d3b-305ebd565562",
   "metadata": {},
   "outputs": [],
   "source": [
    "tpl[2][0] = 1"
   ]
  },
  {
   "cell_type": "code",
   "execution_count": 28,
   "id": "9f7eecfd-e1b2-4940-a75a-9e52ed6d88de",
   "metadata": {},
   "outputs": [
    {
     "data": {
      "text/plain": [
       "([1, 2, 3], 'zoya', [1, 4, 6])"
      ]
     },
     "execution_count": 28,
     "metadata": {},
     "output_type": "execute_result"
    }
   ],
   "source": [
    "tpl"
   ]
  },
  {
   "cell_type": "code",
   "execution_count": 31,
   "id": "776f0994-4b5e-4679-9ab0-9ce025cf85a4",
   "metadata": {},
   "outputs": [
    {
     "data": {
      "text/plain": [
       "1"
      ]
     },
     "execution_count": 31,
     "metadata": {},
     "output_type": "execute_result"
    }
   ],
   "source": [
    "tpl.count('zoya')"
   ]
  },
  {
   "cell_type": "code",
   "execution_count": 40,
   "id": "9f31c7f1-cab9-4f3f-b04d-ecaee16085fe",
   "metadata": {},
   "outputs": [
    {
     "data": {
      "text/plain": [
       "(1, 3, 5, 6, 1, 3, 1)"
      ]
     },
     "execution_count": 40,
     "metadata": {},
     "output_type": "execute_result"
    }
   ],
   "source": [
    "c"
   ]
  },
  {
   "cell_type": "code",
   "execution_count": 41,
   "id": "5daa1c05-90f8-4286-b152-ea0a0e8b6318",
   "metadata": {},
   "outputs": [
    {
     "data": {
      "text/plain": [
       "3"
      ]
     },
     "execution_count": 41,
     "metadata": {},
     "output_type": "execute_result"
    }
   ],
   "source": [
    "c.count(1)"
   ]
  },
  {
   "cell_type": "code",
   "execution_count": 42,
   "id": "f46a3a91-d75a-45fa-9e04-421ae5bda7e8",
   "metadata": {},
   "outputs": [
    {
     "data": {
      "text/plain": [
       "[1, 1, 1, 3, 3, 5, 6]"
      ]
     },
     "execution_count": 42,
     "metadata": {},
     "output_type": "execute_result"
    }
   ],
   "source": [
    "sorted(c)"
   ]
  },
  {
   "cell_type": "code",
   "execution_count": 44,
   "id": "4cafdd04-7b77-4875-852e-081ec975a49d",
   "metadata": {},
   "outputs": [
    {
     "data": {
      "text/plain": [
       "[1, 3, 1, 6, 5, 3, 1]"
      ]
     },
     "execution_count": 44,
     "metadata": {},
     "output_type": "execute_result"
    }
   ],
   "source": [
    "list(reversed(c))"
   ]
  },
  {
   "cell_type": "code",
   "execution_count": 47,
   "id": "5525979e-5987-4c98-9f54-3165b11406b9",
   "metadata": {},
   "outputs": [],
   "source": [
    "tpl2 = (1, 1, 1, *(1, 6, 5), 3, 5, 6)"
   ]
  },
  {
   "cell_type": "code",
   "execution_count": 48,
   "id": "a9e0f06d-80ee-4488-bd72-0ffb61447a90",
   "metadata": {},
   "outputs": [
    {
     "data": {
      "text/plain": [
       "(1, 1, 1, 1, 6, 5, 3, 5, 6)"
      ]
     },
     "execution_count": 48,
     "metadata": {},
     "output_type": "execute_result"
    }
   ],
   "source": [
    "tpl2"
   ]
  },
  {
   "cell_type": "markdown",
   "id": "099d6a28-68b1-4432-8ce4-2b63918edff0",
   "metadata": {
    "jp-MarkdownHeadingCollapsed": true
   },
   "source": [
    "### sets"
   ]
  },
  {
   "cell_type": "code",
   "execution_count": 49,
   "id": "779725c1-d7d1-44bc-9bf6-d7aae7201685",
   "metadata": {},
   "outputs": [],
   "source": [
    "a = set()"
   ]
  },
  {
   "cell_type": "code",
   "execution_count": 50,
   "id": "05ac470e-a3be-4d62-a7bb-3a51b5a66b2d",
   "metadata": {},
   "outputs": [
    {
     "data": {
      "text/plain": [
       "set"
      ]
     },
     "execution_count": 50,
     "metadata": {},
     "output_type": "execute_result"
    }
   ],
   "source": [
    "type(a)"
   ]
  },
  {
   "cell_type": "code",
   "execution_count": 51,
   "id": "c2516311-4058-430b-b57b-827e133d142c",
   "metadata": {},
   "outputs": [],
   "source": [
    "b = {20}"
   ]
  },
  {
   "cell_type": "code",
   "execution_count": 52,
   "id": "ac2954ba-0585-464e-b180-0a08d050bd5a",
   "metadata": {},
   "outputs": [
    {
     "data": {
      "text/plain": [
       "set"
      ]
     },
     "execution_count": 52,
     "metadata": {},
     "output_type": "execute_result"
    }
   ],
   "source": [
    "type(b)"
   ]
  },
  {
   "cell_type": "code",
   "execution_count": 55,
   "id": "c73ded2c-3c1b-4fbb-a797-c7f69e4c4642",
   "metadata": {},
   "outputs": [],
   "source": [
    "c = {'amit', 25, 3455.9, 25}"
   ]
  },
  {
   "cell_type": "code",
   "execution_count": 56,
   "id": "839a030e-04bd-4ece-8a4c-1b587472abba",
   "metadata": {},
   "outputs": [
    {
     "data": {
      "text/plain": [
       "set"
      ]
     },
     "execution_count": 56,
     "metadata": {},
     "output_type": "execute_result"
    }
   ],
   "source": [
    "type(c)"
   ]
  },
  {
   "cell_type": "code",
   "execution_count": 57,
   "id": "ced22b13-dc70-4b25-aeb4-3ff746e0c076",
   "metadata": {},
   "outputs": [
    {
     "data": {
      "text/plain": [
       "{25, 3455.9, 'amit'}"
      ]
     },
     "execution_count": 57,
     "metadata": {},
     "output_type": "execute_result"
    }
   ],
   "source": [
    "c"
   ]
  },
  {
   "cell_type": "code",
   "execution_count": 58,
   "id": "a8e53626-0487-4274-b36d-6ab17ab632d8",
   "metadata": {},
   "outputs": [],
   "source": [
    "s1 = {'Morning', 'Evening', 'afternoon', 'night'}"
   ]
  },
  {
   "cell_type": "code",
   "execution_count": 59,
   "id": "4e5c0491-d96f-47e5-927f-c81bbaf08cac",
   "metadata": {},
   "outputs": [
    {
     "data": {
      "text/plain": [
       "{'Evening', 'Morning', 'afternoon', 'night'}"
      ]
     },
     "execution_count": 59,
     "metadata": {},
     "output_type": "execute_result"
    }
   ],
   "source": [
    "s1"
   ]
  },
  {
   "cell_type": "code",
   "execution_count": 60,
   "id": "5329e52e-9297-4acb-95f6-85956a8e861f",
   "metadata": {},
   "outputs": [],
   "source": [
    "s2 = {(10,)*5, (1,3,5),('zoya', 1, 2)}"
   ]
  },
  {
   "cell_type": "code",
   "execution_count": 61,
   "id": "45d5cc7e-1ba9-4f1d-9c7c-2d3307fecdda",
   "metadata": {},
   "outputs": [
    {
     "data": {
      "text/plain": [
       "{('zoya', 1, 2), (1, 3, 5), (10, 10, 10, 10, 10)}"
      ]
     },
     "execution_count": 61,
     "metadata": {},
     "output_type": "execute_result"
    }
   ],
   "source": [
    "s2"
   ]
  },
  {
   "cell_type": "code",
   "execution_count": 62,
   "id": "2e6eaa9c-b8d8-4566-b687-fb644b569b6c",
   "metadata": {},
   "outputs": [
    {
     "data": {
      "text/plain": [
       "set"
      ]
     },
     "execution_count": 62,
     "metadata": {},
     "output_type": "execute_result"
    }
   ],
   "source": [
    "type(s2)"
   ]
  },
  {
   "cell_type": "code",
   "execution_count": 69,
   "id": "30612582-c9f3-4e4f-abd9-573b02eeaee5",
   "metadata": {},
   "outputs": [],
   "source": [
    "s3 = {12,15,13,23,22,16,27}"
   ]
  },
  {
   "cell_type": "code",
   "execution_count": 71,
   "id": "416b77dc-95f6-45bb-bcd0-db9cdfb95ff0",
   "metadata": {},
   "outputs": [
    {
     "name": "stdout",
     "output_type": "stream",
     "text": [
      "0 16\n",
      "1 22\n",
      "2 23\n",
      "3 27\n",
      "4 12\n",
      "5 13\n",
      "6 15\n"
     ]
    }
   ],
   "source": [
    "for i,n in enumerate(s3):\n",
    "    print(i, n)"
   ]
  },
  {
   "cell_type": "code",
   "execution_count": 73,
   "id": "98b1ed1d-4aa6-4d34-bd62-11f4071b9a5b",
   "metadata": {},
   "outputs": [
    {
     "name": "stdout",
     "output_type": "stream",
     "text": [
      "16\n",
      "22\n",
      "23\n",
      "27\n",
      "12\n",
      "13\n",
      "15\n"
     ]
    }
   ],
   "source": [
    "for i in s3:\n",
    "    print(i)"
   ]
  },
  {
   "cell_type": "code",
   "execution_count": 74,
   "id": "d2eecc5b-cbd1-43c3-9a6b-68850d0d4186",
   "metadata": {},
   "outputs": [
    {
     "data": {
      "text/plain": [
       "{'Evening', 'Morning', 'afternoon', 'night'}"
      ]
     },
     "execution_count": 74,
     "metadata": {},
     "output_type": "execute_result"
    }
   ],
   "source": [
    "s1"
   ]
  },
  {
   "cell_type": "code",
   "execution_count": 76,
   "id": "79630a78-7cac-45e8-a371-7a1e52334d9d",
   "metadata": {},
   "outputs": [],
   "source": [
    "s1.add('noon')"
   ]
  },
  {
   "cell_type": "code",
   "execution_count": 78,
   "id": "05ace933-0463-48b2-98de-be5c4752985f",
   "metadata": {},
   "outputs": [],
   "source": [
    "s4  = frozenset({'Evening', 'Morning', 'afternoon', 'night'})"
   ]
  },
  {
   "cell_type": "code",
   "execution_count": 79,
   "id": "116196d7-794e-42fc-b4a8-238c5b3d80e7",
   "metadata": {},
   "outputs": [
    {
     "data": {
      "text/plain": [
       "frozenset({'Evening', 'Morning', 'afternoon', 'night'})"
      ]
     },
     "execution_count": 79,
     "metadata": {},
     "output_type": "execute_result"
    }
   ],
   "source": [
    "s4"
   ]
  },
  {
   "cell_type": "code",
   "execution_count": 82,
   "id": "d5428902-a384-4df2-a42b-87947283ee14",
   "metadata": {},
   "outputs": [
    {
     "data": {
      "text/plain": [
       "['Morning', 'Evening', 'night', 'afternoon']"
      ]
     },
     "execution_count": 82,
     "metadata": {},
     "output_type": "execute_result"
    }
   ],
   "source": [
    "list(s4)"
   ]
  },
  {
   "cell_type": "code",
   "execution_count": 99,
   "id": "d15a31c2-4f83-4192-981a-5f27f00b0479",
   "metadata": {},
   "outputs": [],
   "source": [
    "s5 = s3"
   ]
  },
  {
   "cell_type": "code",
   "execution_count": 100,
   "id": "059d8ceb-1c94-4ca9-8059-cfc3eb23996b",
   "metadata": {},
   "outputs": [
    {
     "data": {
      "text/plain": [
       "{12, 13, 15, 16, 22, 23, 27}"
      ]
     },
     "execution_count": 100,
     "metadata": {},
     "output_type": "execute_result"
    }
   ],
   "source": [
    "s5"
   ]
  },
  {
   "cell_type": "code",
   "execution_count": 101,
   "id": "68ea6bec-b6d7-4368-a6eb-8fa7929d7da6",
   "metadata": {},
   "outputs": [],
   "source": [
    "s5.add(79)"
   ]
  },
  {
   "cell_type": "code",
   "execution_count": 102,
   "id": "f15f78ba-1957-43a7-95bb-4456e3ee8983",
   "metadata": {},
   "outputs": [
    {
     "data": {
      "text/plain": [
       "{12, 13, 15, 16, 22, 23, 27, 79}"
      ]
     },
     "execution_count": 102,
     "metadata": {},
     "output_type": "execute_result"
    }
   ],
   "source": [
    "s5"
   ]
  },
  {
   "cell_type": "code",
   "execution_count": 103,
   "id": "38eea556-3534-49d6-ab76-ac6fdd077a1e",
   "metadata": {},
   "outputs": [
    {
     "data": {
      "text/plain": [
       "{12, 13, 15, 16, 22, 23, 27, 79}"
      ]
     },
     "execution_count": 103,
     "metadata": {},
     "output_type": "execute_result"
    }
   ],
   "source": [
    "s3"
   ]
  },
  {
   "cell_type": "code",
   "execution_count": 104,
   "id": "73dc201d-a294-4204-8c01-71d71d4fd6ce",
   "metadata": {},
   "outputs": [
    {
     "data": {
      "text/plain": [
       "True"
      ]
     },
     "execution_count": 104,
     "metadata": {},
     "output_type": "execute_result"
    }
   ],
   "source": [
    "s5 is s3"
   ]
  },
  {
   "cell_type": "code",
   "execution_count": 105,
   "id": "930afdff-76f8-4677-9c8e-25deff5da7b7",
   "metadata": {},
   "outputs": [
    {
     "data": {
      "text/plain": [
       "True"
      ]
     },
     "execution_count": 105,
     "metadata": {},
     "output_type": "execute_result"
    }
   ],
   "source": [
    "13 in s5"
   ]
  },
  {
   "cell_type": "code",
   "execution_count": 106,
   "id": "71f784a3-3ffe-4824-aded-3ad585068815",
   "metadata": {},
   "outputs": [
    {
     "data": {
      "text/plain": [
       "False"
      ]
     },
     "execution_count": 106,
     "metadata": {},
     "output_type": "execute_result"
    }
   ],
   "source": [
    "0 in s3"
   ]
  },
  {
   "cell_type": "code",
   "execution_count": 107,
   "id": "cee2141a-b288-46c9-8b6c-e8fe38641b8b",
   "metadata": {},
   "outputs": [
    {
     "data": {
      "text/plain": [
       "True"
      ]
     },
     "execution_count": 107,
     "metadata": {},
     "output_type": "execute_result"
    }
   ],
   "source": [
    "s5 == s3"
   ]
  },
  {
   "cell_type": "code",
   "execution_count": 111,
   "id": "2092e177-bf91-47b8-ad2f-c97e16490ea3",
   "metadata": {},
   "outputs": [
    {
     "name": "stdout",
     "output_type": "stream",
     "text": [
      "empty\n"
     ]
    }
   ],
   "source": [
    "if not s6:\n",
    "    print('empty')"
   ]
  },
  {
   "cell_type": "code",
   "execution_count": 110,
   "id": "0aedab72-2616-4fee-a8eb-73e6292d004c",
   "metadata": {},
   "outputs": [],
   "source": [
    "s6 = set()"
   ]
  },
  {
   "cell_type": "code",
   "execution_count": 112,
   "id": "d60e931c-de1d-452a-b05b-3075b6f1b68a",
   "metadata": {},
   "outputs": [
    {
     "data": {
      "text/plain": [
       "{12, 13, 15, 16, 22, 23, 27, 79}"
      ]
     },
     "execution_count": 112,
     "metadata": {},
     "output_type": "execute_result"
    }
   ],
   "source": [
    "s5"
   ]
  },
  {
   "cell_type": "code",
   "execution_count": 122,
   "id": "4c3bc7c2-e6ac-4032-964f-8d56d45036e4",
   "metadata": {},
   "outputs": [],
   "source": [
    "lst1 = [12, 13, 105, 16, 22, 23, 27,27, 79]"
   ]
  },
  {
   "cell_type": "code",
   "execution_count": 123,
   "id": "63a556ef-ce50-4e4f-ba23-1f2fff5c2b84",
   "metadata": {},
   "outputs": [],
   "source": [
    "lst1 = set(lst1)"
   ]
  },
  {
   "cell_type": "code",
   "execution_count": 124,
   "id": "34e58e73-7cb0-460b-b5de-8914c5cc6731",
   "metadata": {},
   "outputs": [
    {
     "data": {
      "text/plain": [
       "[12, 13, 16, 22, 23, 27, 79, 105]"
      ]
     },
     "execution_count": 124,
     "metadata": {},
     "output_type": "execute_result"
    }
   ],
   "source": [
    "sorted(lst1)"
   ]
  },
  {
   "cell_type": "code",
   "execution_count": 137,
   "id": "0fb201a5-45ab-4879-bcb2-4a25f9948f9a",
   "metadata": {},
   "outputs": [],
   "source": [
    "s7 = lst1.copy()"
   ]
  },
  {
   "cell_type": "code",
   "execution_count": 138,
   "id": "47cdad1b-bd92-42b9-8c9c-3a967fa80c26",
   "metadata": {},
   "outputs": [
    {
     "data": {
      "text/plain": [
       "{12, 13, 16, 22, 23, 27, 79, 105}"
      ]
     },
     "execution_count": 138,
     "metadata": {},
     "output_type": "execute_result"
    }
   ],
   "source": [
    "s7"
   ]
  },
  {
   "cell_type": "code",
   "execution_count": 139,
   "id": "bf813717-1b45-4fbe-95cc-6d1c0b5a0f2e",
   "metadata": {},
   "outputs": [],
   "source": [
    "t = {'a','b'}"
   ]
  },
  {
   "cell_type": "code",
   "execution_count": 142,
   "id": "661a645e-834a-438b-a2a5-c2672d5ea920",
   "metadata": {},
   "outputs": [],
   "source": [
    "s7.update(t)"
   ]
  },
  {
   "cell_type": "code",
   "execution_count": 130,
   "id": "da74875a-3b23-4a5c-a8bc-dd8d27a7fc8c",
   "metadata": {},
   "outputs": [
    {
     "data": {
      "text/plain": [
       "{105, 12, 13, 16, 22, 23, 27, 79, 'a', 'b'}"
      ]
     },
     "execution_count": 130,
     "metadata": {},
     "output_type": "execute_result"
    }
   ],
   "source": [
    "s7"
   ]
  },
  {
   "cell_type": "code",
   "execution_count": 131,
   "id": "0da410f9-459a-4418-bea6-534c1d5a283e",
   "metadata": {},
   "outputs": [],
   "source": [
    "s7.remove('a')"
   ]
  },
  {
   "cell_type": "code",
   "execution_count": 132,
   "id": "e141617d-fbba-4989-b9f5-5e9011c5c53a",
   "metadata": {},
   "outputs": [
    {
     "data": {
      "text/plain": [
       "{105, 12, 13, 16, 22, 23, 27, 79, 'b'}"
      ]
     },
     "execution_count": 132,
     "metadata": {},
     "output_type": "execute_result"
    }
   ],
   "source": [
    "s7"
   ]
  },
  {
   "cell_type": "code",
   "execution_count": 133,
   "id": "f74e94cb-a22d-40e0-9379-5980fd957f9c",
   "metadata": {},
   "outputs": [],
   "source": [
    "s7.discard('b')"
   ]
  },
  {
   "cell_type": "code",
   "execution_count": 134,
   "id": "3e76cb7d-b717-44cc-abc1-ef0128f783db",
   "metadata": {},
   "outputs": [
    {
     "data": {
      "text/plain": [
       "{12, 13, 16, 22, 23, 27, 79, 105}"
      ]
     },
     "execution_count": 134,
     "metadata": {},
     "output_type": "execute_result"
    }
   ],
   "source": [
    "s7"
   ]
  },
  {
   "cell_type": "code",
   "execution_count": 135,
   "id": "db340192-e51e-4e90-8ad3-5290b5d59402",
   "metadata": {},
   "outputs": [],
   "source": [
    "s7.clear()"
   ]
  },
  {
   "cell_type": "code",
   "execution_count": 143,
   "id": "77628e86-36df-474e-bc0d-e37a82d449ed",
   "metadata": {},
   "outputs": [
    {
     "data": {
      "text/plain": [
       "{105, 12, 13, 16, 22, 23, 27, 79, 'a', 'b'}"
      ]
     },
     "execution_count": 143,
     "metadata": {},
     "output_type": "execute_result"
    }
   ],
   "source": [
    "s7"
   ]
  },
  {
   "cell_type": "code",
   "execution_count": 144,
   "id": "bd79dd34-a9ac-4775-a698-c52c862b91a3",
   "metadata": {},
   "outputs": [
    {
     "data": {
      "text/plain": [
       "True"
      ]
     },
     "execution_count": 144,
     "metadata": {},
     "output_type": "execute_result"
    }
   ],
   "source": [
    "s7.issuperset(t)"
   ]
  },
  {
   "cell_type": "code",
   "execution_count": 145,
   "id": "b9efc096-0551-4930-8a9b-8d658592eac3",
   "metadata": {},
   "outputs": [
    {
     "data": {
      "text/plain": [
       "True"
      ]
     },
     "execution_count": 145,
     "metadata": {},
     "output_type": "execute_result"
    }
   ],
   "source": [
    "t.issubset(s7)"
   ]
  },
  {
   "cell_type": "code",
   "execution_count": 146,
   "id": "1cf7f8a0-3748-4024-b292-176f35f79394",
   "metadata": {},
   "outputs": [
    {
     "data": {
      "text/plain": [
       "False"
      ]
     },
     "execution_count": 146,
     "metadata": {},
     "output_type": "execute_result"
    }
   ],
   "source": [
    "s7.isdisjoint(t)"
   ]
  },
  {
   "cell_type": "code",
   "execution_count": 147,
   "id": "55d0fcbe-c857-4ded-a883-42c4d8f91195",
   "metadata": {},
   "outputs": [],
   "source": [
    "engineers = {'vijay', 'sanjay', 'ajay', 'sujay', 'dinesh'}"
   ]
  },
  {
   "cell_type": "code",
   "execution_count": 148,
   "id": "60419847-d3b6-4211-a452-79aad2db99e8",
   "metadata": {},
   "outputs": [],
   "source": [
    "managers = {'aditya', 'sanjay'}"
   ]
  },
  {
   "cell_type": "code",
   "execution_count": 150,
   "id": "d3c1c49f-fe48-4dc9-ada3-e921d47a2f46",
   "metadata": {},
   "outputs": [
    {
     "data": {
      "text/plain": [
       "{'aditya', 'ajay', 'dinesh', 'sanjay', 'sujay', 'vijay'}"
      ]
     },
     "execution_count": 150,
     "metadata": {},
     "output_type": "execute_result"
    }
   ],
   "source": [
    "# union \n",
    "engineers | managers"
   ]
  },
  {
   "cell_type": "code",
   "execution_count": 151,
   "id": "2699ad29-bc9e-41ce-896a-f05bbf744fa0",
   "metadata": {},
   "outputs": [
    {
     "data": {
      "text/plain": [
       "{'sanjay'}"
      ]
     },
     "execution_count": 151,
     "metadata": {},
     "output_type": "execute_result"
    }
   ],
   "source": [
    "# intersection\n",
    "engineers & managers"
   ]
  },
  {
   "cell_type": "code",
   "execution_count": 152,
   "id": "f1ce6ddd-d90c-4d30-86bb-15cd14003c42",
   "metadata": {},
   "outputs": [
    {
     "data": {
      "text/plain": [
       "{'ajay', 'dinesh', 'sujay', 'vijay'}"
      ]
     },
     "execution_count": 152,
     "metadata": {},
     "output_type": "execute_result"
    }
   ],
   "source": [
    "# diffrence  \n",
    "engineers - managers"
   ]
  },
  {
   "cell_type": "code",
   "execution_count": 153,
   "id": "8c2ac7b8-6bd2-472a-8252-8cb670826621",
   "metadata": {},
   "outputs": [
    {
     "data": {
      "text/plain": [
       "{'aditya'}"
      ]
     },
     "execution_count": 153,
     "metadata": {},
     "output_type": "execute_result"
    }
   ],
   "source": [
    "# diffrence  \n",
    "managers - engineers"
   ]
  },
  {
   "cell_type": "code",
   "execution_count": 154,
   "id": "feb9a9b3-b785-48aa-87a9-9099614b6427",
   "metadata": {},
   "outputs": [
    {
     "data": {
      "text/plain": [
       "{'aditya', 'ajay', 'dinesh', 'sujay', 'vijay'}"
      ]
     },
     "execution_count": 154,
     "metadata": {},
     "output_type": "execute_result"
    }
   ],
   "source": [
    "# symmetric diffrence\n",
    "managers ^ engineers"
   ]
  },
  {
   "cell_type": "code",
   "execution_count": 155,
   "id": "641c0281-2a40-4ac3-beae-07456171d80c",
   "metadata": {},
   "outputs": [],
   "source": [
    "x = {1,2,3,4}"
   ]
  },
  {
   "cell_type": "code",
   "execution_count": 159,
   "id": "2b0d3d62-bead-4799-b9c8-6a5e4787e117",
   "metadata": {},
   "outputs": [],
   "source": [
    "s8 = {*x}"
   ]
  },
  {
   "cell_type": "code",
   "execution_count": 160,
   "id": "d510789d-beaf-4288-8771-ac0b45e6c5fc",
   "metadata": {},
   "outputs": [
    {
     "data": {
      "text/plain": [
       "{1, 2, 3, 4}"
      ]
     },
     "execution_count": 160,
     "metadata": {},
     "output_type": "execute_result"
    }
   ],
   "source": [
    "s8"
   ]
  },
  {
   "cell_type": "code",
   "execution_count": 161,
   "id": "5b2ef3aa-8a87-4c0d-80b8-b33c990d6284",
   "metadata": {},
   "outputs": [
    {
     "data": {
      "text/plain": [
       "False"
      ]
     },
     "execution_count": 161,
     "metadata": {},
     "output_type": "execute_result"
    }
   ],
   "source": [
    "s8 is x"
   ]
  },
  {
   "cell_type": "markdown",
   "id": "8dbd5c55-0549-4e4b-b484-09eb3bed11a5",
   "metadata": {
    "jp-MarkdownHeadingCollapsed": true
   },
   "source": [
    "### Dictonary"
   ]
  },
  {
   "cell_type": "code",
   "execution_count": 14,
   "id": "2b21afb2-f9f1-448a-908e-474e6bb9fb18",
   "metadata": {},
   "outputs": [],
   "source": [
    "d = {\n",
    "    'a' : 10,\n",
    "    'b' : 20,\n",
    "    'c' : 30,\n",
    "    'd' : 40\n",
    "}"
   ]
  },
  {
   "cell_type": "code",
   "execution_count": 163,
   "id": "0a38059d-7dd3-4fdd-ac32-a737d2404b29",
   "metadata": {},
   "outputs": [
    {
     "data": {
      "text/plain": [
       "{'a': 10, 'b': 20}"
      ]
     },
     "execution_count": 163,
     "metadata": {},
     "output_type": "execute_result"
    }
   ],
   "source": [
    "d"
   ]
  },
  {
   "cell_type": "code",
   "execution_count": 169,
   "id": "08b903ca-3f18-41cc-8e34-8a990c7c869b",
   "metadata": {},
   "outputs": [],
   "source": [
    "d1 = {\n",
    "    'a' : 10,\n",
    "    'b' : 20,\n",
    "    'a' : 30\n",
    "}"
   ]
  },
  {
   "cell_type": "code",
   "execution_count": 170,
   "id": "e415efde-28b8-4803-b200-323a3f589e3a",
   "metadata": {},
   "outputs": [
    {
     "data": {
      "text/plain": [
       "{'a': 30, 'b': 20}"
      ]
     },
     "execution_count": 170,
     "metadata": {},
     "output_type": "execute_result"
    }
   ],
   "source": [
    "d1"
   ]
  },
  {
   "cell_type": "code",
   "execution_count": 171,
   "id": "3deea1a9-40eb-4ffa-aa4c-248c0e43b7d0",
   "metadata": {},
   "outputs": [
    {
     "data": {
      "text/plain": [
       "30"
      ]
     },
     "execution_count": 171,
     "metadata": {},
     "output_type": "execute_result"
    }
   ],
   "source": [
    "d1['a']"
   ]
  },
  {
   "cell_type": "code",
   "execution_count": 172,
   "id": "03416427-b002-4d4c-bc48-d442aefd3ccd",
   "metadata": {},
   "outputs": [
    {
     "name": "stdout",
     "output_type": "stream",
     "text": [
      "a\n",
      "b\n"
     ]
    }
   ],
   "source": [
    "# iterate\n",
    "for k in d1:\n",
    "    print(k)"
   ]
  },
  {
   "cell_type": "code",
   "execution_count": 173,
   "id": "d10e91d5-baf5-4ce2-a61f-0ef5e35c7fc4",
   "metadata": {},
   "outputs": [
    {
     "name": "stdout",
     "output_type": "stream",
     "text": [
      "30\n",
      "20\n"
     ]
    }
   ],
   "source": [
    "for v in d1.values():\n",
    "    print(v)"
   ]
  },
  {
   "cell_type": "code",
   "execution_count": 174,
   "id": "f339c0a3-f555-4a43-8f20-ace14da98822",
   "metadata": {},
   "outputs": [
    {
     "name": "stdout",
     "output_type": "stream",
     "text": [
      "a 30\n",
      "b 20\n"
     ]
    }
   ],
   "source": [
    "for k, v in d1.items():\n",
    "    print(k,v)"
   ]
  },
  {
   "cell_type": "code",
   "execution_count": 179,
   "id": "4a45cdb0-fc99-4597-bec8-2439d8d5c96c",
   "metadata": {},
   "outputs": [
    {
     "name": "stdout",
     "output_type": "stream",
     "text": [
      "0 a 30\n",
      "1 b 20\n"
     ]
    }
   ],
   "source": [
    "# index:\n",
    "for i, (k,v) in enumerate(d1.items()):\n",
    "    print(i, k, v)"
   ]
  },
  {
   "cell_type": "code",
   "execution_count": 180,
   "id": "73b3c509-19ed-4d0d-a047-a8ade68d1cdd",
   "metadata": {},
   "outputs": [],
   "source": [
    "d1['c'] = 10"
   ]
  },
  {
   "cell_type": "code",
   "execution_count": 181,
   "id": "044882f5-2d5b-49c9-8c9f-2786b7a25ab4",
   "metadata": {},
   "outputs": [
    {
     "data": {
      "text/plain": [
       "{'a': 30, 'b': 20, 'c': 10}"
      ]
     },
     "execution_count": 181,
     "metadata": {},
     "output_type": "execute_result"
    }
   ],
   "source": [
    "d1"
   ]
  },
  {
   "cell_type": "code",
   "execution_count": 182,
   "id": "366ad013-b297-4300-8be2-34c41fc8e152",
   "metadata": {},
   "outputs": [],
   "source": [
    "d1['a'] = 10\n"
   ]
  },
  {
   "cell_type": "code",
   "execution_count": 185,
   "id": "56825358-ff07-4f32-ac10-84ba2f00c016",
   "metadata": {},
   "outputs": [
    {
     "data": {
      "text/plain": [
       "{'a': 10, 'b': 20, 'c': 10, 'd': 40}"
      ]
     },
     "execution_count": 185,
     "metadata": {},
     "output_type": "execute_result"
    }
   ],
   "source": [
    "d1"
   ]
  },
  {
   "cell_type": "code",
   "execution_count": 186,
   "id": "b86cc1e4-4e31-4a96-a0ac-92bdfa2f5fc3",
   "metadata": {},
   "outputs": [],
   "source": [
    "del d1['d']"
   ]
  },
  {
   "cell_type": "code",
   "execution_count": 187,
   "id": "ed0addd3-758a-46e8-80f9-ef6e926a239b",
   "metadata": {},
   "outputs": [
    {
     "data": {
      "text/plain": [
       "{'a': 10, 'b': 20, 'c': 10}"
      ]
     },
     "execution_count": 187,
     "metadata": {},
     "output_type": "execute_result"
    }
   ],
   "source": [
    "d1"
   ]
  },
  {
   "cell_type": "code",
   "execution_count": 190,
   "id": "faf1f902-7242-4283-beae-aa97046b9c4c",
   "metadata": {},
   "outputs": [
    {
     "data": {
      "text/plain": [
       "[('a', 10), ('b', 20), ('c', 10)]"
      ]
     },
     "execution_count": 190,
     "metadata": {},
     "output_type": "execute_result"
    }
   ],
   "source": [
    "list(d1.items())"
   ]
  },
  {
   "cell_type": "code",
   "execution_count": 191,
   "id": "5380fab1-1238-4816-9f3a-2b86f101f8d4",
   "metadata": {},
   "outputs": [],
   "source": [
    "d2 = d1"
   ]
  },
  {
   "cell_type": "code",
   "execution_count": 192,
   "id": "6c0a711a-b057-4e64-9242-25de0e9a0337",
   "metadata": {},
   "outputs": [
    {
     "data": {
      "text/plain": [
       "{'a': 10, 'b': 20, 'c': 10}"
      ]
     },
     "execution_count": 192,
     "metadata": {},
     "output_type": "execute_result"
    }
   ],
   "source": [
    "d2"
   ]
  },
  {
   "cell_type": "code",
   "execution_count": 193,
   "id": "3308f527-ea1a-4a23-87ed-f61bd758f0d2",
   "metadata": {},
   "outputs": [
    {
     "data": {
      "text/plain": [
       "True"
      ]
     },
     "execution_count": 193,
     "metadata": {},
     "output_type": "execute_result"
    }
   ],
   "source": [
    "d2 is d1"
   ]
  },
  {
   "cell_type": "code",
   "execution_count": 202,
   "id": "336eee24-d402-4413-ab71-8fd121efabae",
   "metadata": {},
   "outputs": [],
   "source": [
    "d3 = {}"
   ]
  },
  {
   "cell_type": "code",
   "execution_count": 195,
   "id": "99f890c4-e1c4-4cb1-8269-b0e5a6f9aa47",
   "metadata": {},
   "outputs": [
    {
     "data": {
      "text/plain": [
       "dict"
      ]
     },
     "execution_count": 195,
     "metadata": {},
     "output_type": "execute_result"
    }
   ],
   "source": [
    "type(d3)"
   ]
  },
  {
   "cell_type": "code",
   "execution_count": 203,
   "id": "6c6102ba-9b77-4e30-bb7d-f7d86ecf8d9d",
   "metadata": {},
   "outputs": [
    {
     "name": "stdout",
     "output_type": "stream",
     "text": [
      "empty\n"
     ]
    }
   ],
   "source": [
    "if not d3:\n",
    "    print('empty')"
   ]
  },
  {
   "cell_type": "code",
   "execution_count": 204,
   "id": "78b20ba6-ad50-430d-b3b8-7fd7c33cafa6",
   "metadata": {},
   "outputs": [
    {
     "data": {
      "text/plain": [
       "True"
      ]
     },
     "execution_count": 204,
     "metadata": {},
     "output_type": "execute_result"
    }
   ],
   "source": [
    "'a' in d1"
   ]
  },
  {
   "cell_type": "code",
   "execution_count": 205,
   "id": "7659f47f-4ad1-4a57-b4a9-a79af9adaf6c",
   "metadata": {},
   "outputs": [
    {
     "data": {
      "text/plain": [
       "False"
      ]
     },
     "execution_count": 205,
     "metadata": {},
     "output_type": "execute_result"
    }
   ],
   "source": [
    "10 in d2"
   ]
  },
  {
   "cell_type": "code",
   "execution_count": 206,
   "id": "eaee634f-ccc6-48c4-a8b2-3b959b857e62",
   "metadata": {},
   "outputs": [
    {
     "data": {
      "text/plain": [
       "{'a': 10, 'b': 20, 'c': 10}"
      ]
     },
     "execution_count": 206,
     "metadata": {},
     "output_type": "execute_result"
    }
   ],
   "source": [
    "d1"
   ]
  },
  {
   "cell_type": "code",
   "execution_count": 209,
   "id": "3c3fc8da-fe3f-4c1f-b803-4aab7841864c",
   "metadata": {},
   "outputs": [
    {
     "data": {
      "text/plain": [
       "'absent'"
      ]
     },
     "execution_count": 209,
     "metadata": {},
     "output_type": "execute_result"
    }
   ],
   "source": [
    "d1.get('ab','absent')"
   ]
  },
  {
   "cell_type": "code",
   "execution_count": 215,
   "id": "d52d52d9-c3ec-4cc7-a785-67fc5ebc2289",
   "metadata": {},
   "outputs": [],
   "source": [
    "d1.update({'d':40})"
   ]
  },
  {
   "cell_type": "code",
   "execution_count": 216,
   "id": "4dcc6a69-9c4e-4404-b0c3-a69808a995c3",
   "metadata": {},
   "outputs": [
    {
     "data": {
      "text/plain": [
       "{'a': 10, 'b': 20, 'c': 10, 'd': 40}"
      ]
     },
     "execution_count": 216,
     "metadata": {},
     "output_type": "execute_result"
    }
   ],
   "source": [
    "d1"
   ]
  },
  {
   "cell_type": "code",
   "execution_count": 217,
   "id": "d1655751-c271-4f59-8fab-c768ad0ab676",
   "metadata": {},
   "outputs": [
    {
     "data": {
      "text/plain": [
       "10"
      ]
     },
     "execution_count": 217,
     "metadata": {},
     "output_type": "execute_result"
    }
   ],
   "source": [
    "d1.pop('a')"
   ]
  },
  {
   "cell_type": "code",
   "execution_count": 218,
   "id": "fe1d3c2f-49bd-4f6a-a7c8-766e723d38d8",
   "metadata": {},
   "outputs": [
    {
     "data": {
      "text/plain": [
       "{'b': 20, 'c': 10, 'd': 40}"
      ]
     },
     "execution_count": 218,
     "metadata": {},
     "output_type": "execute_result"
    }
   ],
   "source": [
    "d1"
   ]
  },
  {
   "cell_type": "code",
   "execution_count": 219,
   "id": "879e63a9-9cc2-4739-be1e-b41bc9d8cf05",
   "metadata": {},
   "outputs": [
    {
     "data": {
      "text/plain": [
       "('d', 40)"
      ]
     },
     "execution_count": 219,
     "metadata": {},
     "output_type": "execute_result"
    }
   ],
   "source": [
    "d1.popitem()"
   ]
  },
  {
   "cell_type": "code",
   "execution_count": 220,
   "id": "ed931933-eb7b-43a8-88e9-8b17ed5a2104",
   "metadata": {},
   "outputs": [
    {
     "data": {
      "text/plain": [
       "{'b': 20, 'c': 10}"
      ]
     },
     "execution_count": 220,
     "metadata": {},
     "output_type": "execute_result"
    }
   ],
   "source": [
    "d1"
   ]
  },
  {
   "cell_type": "code",
   "execution_count": 221,
   "id": "7defebb7-0ec6-45b6-8460-21874c409c90",
   "metadata": {},
   "outputs": [],
   "source": [
    "d2.clear()"
   ]
  },
  {
   "cell_type": "code",
   "execution_count": 222,
   "id": "0351a8c7-0502-4957-a8a5-22efe305af59",
   "metadata": {},
   "outputs": [
    {
     "data": {
      "text/plain": [
       "{}"
      ]
     },
     "execution_count": 222,
     "metadata": {},
     "output_type": "execute_result"
    }
   ],
   "source": [
    "d2"
   ]
  },
  {
   "cell_type": "code",
   "execution_count": 225,
   "id": "a9439870-4875-4da2-a521-89d2231276df",
   "metadata": {},
   "outputs": [],
   "source": [
    "d3 = {\n",
    "    'a' : 10,\n",
    "    'b' : 20,\n",
    "    'c' : 30,\n",
    "    'd' : 40\n",
    "}"
   ]
  },
  {
   "cell_type": "code",
   "execution_count": 226,
   "id": "2938e6ec-1b48-447f-ac7a-5998f9fd137e",
   "metadata": {},
   "outputs": [
    {
     "data": {
      "text/plain": [
       "{'a': 10, 'b': 20, 'c': 30, 'd': 40}"
      ]
     },
     "execution_count": 226,
     "metadata": {},
     "output_type": "execute_result"
    }
   ],
   "source": [
    "d3"
   ]
  },
  {
   "cell_type": "code",
   "execution_count": 227,
   "id": "cba0586a-3588-4297-9d2d-f469de9a066a",
   "metadata": {},
   "outputs": [],
   "source": [
    "d4 = {\n",
    "     'h' : 200,\n",
    "    'i' : 300,\n",
    "}"
   ]
  },
  {
   "cell_type": "code",
   "execution_count": 228,
   "id": "93345a64-a2cb-43c9-b7b1-df5b4261b9ce",
   "metadata": {},
   "outputs": [
    {
     "data": {
      "text/plain": [
       "{'h': 200, 'i': 300}"
      ]
     },
     "execution_count": 228,
     "metadata": {},
     "output_type": "execute_result"
    }
   ],
   "source": [
    "d4"
   ]
  },
  {
   "cell_type": "code",
   "execution_count": 231,
   "id": "aabdcdac-c7a0-45e7-a619-e04269e41763",
   "metadata": {},
   "outputs": [],
   "source": [
    "combined = {**d3, **d4}"
   ]
  },
  {
   "cell_type": "code",
   "execution_count": 232,
   "id": "48bd0ef8-27cb-4007-8d11-f2494790db72",
   "metadata": {},
   "outputs": [
    {
     "data": {
      "text/plain": [
       "{'a': 10, 'b': 20, 'c': 30, 'd': 40, 'h': 200, 'i': 300}"
      ]
     },
     "execution_count": 232,
     "metadata": {},
     "output_type": "execute_result"
    }
   ],
   "source": [
    "combined"
   ]
  },
  {
   "cell_type": "code",
   "execution_count": 236,
   "id": "503441bf-13f3-4e35-bbc6-f31cec2e517d",
   "metadata": {},
   "outputs": [
    {
     "name": "stdout",
     "output_type": "stream",
     "text": [
      "i 300\n",
      "h 200\n",
      "d 40\n",
      "c 30\n",
      "b 20\n",
      "a 10\n"
     ]
    }
   ],
   "source": [
    "for i,j in reversed(combined.items()):\n",
    "    print(i,j)"
   ]
  },
  {
   "cell_type": "code",
   "execution_count": 237,
   "id": "3a7f6d59-d10c-4296-978d-362a3cc47713",
   "metadata": {},
   "outputs": [],
   "source": [
    "d5 = {\n",
    "     'h' : 200,\n",
    "    'i' : 300,\n",
    "}"
   ]
  },
  {
   "cell_type": "code",
   "execution_count": 240,
   "id": "953c247e-2031-427b-a01b-7ca19ab0a881",
   "metadata": {},
   "outputs": [
    {
     "data": {
      "text/plain": [
       "True"
      ]
     },
     "execution_count": 240,
     "metadata": {},
     "output_type": "execute_result"
    }
   ],
   "source": [
    "d5 is d4"
   ]
  },
  {
   "cell_type": "code",
   "execution_count": 239,
   "id": "ecd023a2-1478-44b0-842f-d057c3cb07b7",
   "metadata": {},
   "outputs": [],
   "source": [
    "d5 = d4"
   ]
  },
  {
   "cell_type": "code",
   "execution_count": 242,
   "id": "f670e35b-b677-40bb-80e8-6fa05f677d46",
   "metadata": {},
   "outputs": [],
   "source": [
    "d5 = {}"
   ]
  },
  {
   "cell_type": "code",
   "execution_count": 243,
   "id": "19c657fd-ccce-4a53-879a-a649f21606fd",
   "metadata": {},
   "outputs": [
    {
     "data": {
      "text/plain": [
       "{}"
      ]
     },
     "execution_count": 243,
     "metadata": {},
     "output_type": "execute_result"
    }
   ],
   "source": [
    "d5"
   ]
  },
  {
   "cell_type": "code",
   "execution_count": 244,
   "id": "c18cd4e0-8ff7-47ce-899a-61d8ff3e9c25",
   "metadata": {},
   "outputs": [
    {
     "data": {
      "text/plain": [
       "{'h': 200, 'i': 300}"
      ]
     },
     "execution_count": 244,
     "metadata": {},
     "output_type": "execute_result"
    }
   ],
   "source": [
    "d4"
   ]
  },
  {
   "cell_type": "code",
   "execution_count": null,
   "id": "36b9fc34-748d-4b86-8a6d-ae9e8a6d1f88",
   "metadata": {},
   "outputs": [
    {
     "name": "stdout",
     "output_type": "stream",
     "text": [
      "\n",
      "Welcome to Python 3.11's help utility!\n",
      "\n",
      "If this is your first time using Python, you should definitely check out\n",
      "the tutorial on the internet at https://docs.python.org/3.11/tutorial/.\n",
      "\n",
      "Enter the name of any module, keyword, or topic to get help on writing\n",
      "Python programs and using Python modules.  To quit this help utility and\n",
      "return to the interpreter, just type \"quit\".\n",
      "\n",
      "To get a list of available modules, keywords, symbols, or topics, type\n",
      "\"modules\", \"keywords\", \"symbols\", or \"topics\".  Each module also comes\n",
      "with a one-line summary of what it does; to list the modules whose name\n",
      "or summary contain a given string such as \"spam\", type \"modules spam\".\n",
      "\n"
     ]
    },
    {
     "name": "stdin",
     "output_type": "stream",
     "text": [
      "help>  update()\n"
     ]
    },
    {
     "name": "stdout",
     "output_type": "stream",
     "text": [
      "No Python documentation found for 'update()'.\n",
      "Use help() to get the interactive help utility.\n",
      "Use help(str) for help on the str class.\n",
      "\n"
     ]
    },
    {
     "name": "stdin",
     "output_type": "stream",
     "text": [
      "help>  help(update)\n"
     ]
    },
    {
     "name": "stdout",
     "output_type": "stream",
     "text": [
      "No Python documentation found for 'help(update)'.\n",
      "Use help() to get the interactive help utility.\n",
      "Use help(str) for help on the str class.\n",
      "\n"
     ]
    },
    {
     "name": "stdin",
     "output_type": "stream",
     "text": [
      "help>  help(update())\n"
     ]
    },
    {
     "name": "stdout",
     "output_type": "stream",
     "text": [
      "No Python documentation found for 'help(update())'.\n",
      "Use help() to get the interactive help utility.\n",
      "Use help(str) for help on the str class.\n",
      "\n"
     ]
    },
    {
     "name": "stdin",
     "output_type": "stream",
     "text": [
      "help>  help(dict.update())\n"
     ]
    },
    {
     "name": "stdout",
     "output_type": "stream",
     "text": [
      "No Python documentation found for 'help(dict.update())'.\n",
      "Use help() to get the interactive help utility.\n",
      "Use help(str) for help on the str class.\n",
      "\n"
     ]
    },
    {
     "name": "stdin",
     "output_type": "stream",
     "text": [
      "help>  help(set)\n"
     ]
    },
    {
     "name": "stdout",
     "output_type": "stream",
     "text": [
      "No Python documentation found for 'help(set)'.\n",
      "Use help() to get the interactive help utility.\n",
      "Use help(str) for help on the str class.\n",
      "\n"
     ]
    }
   ],
   "source": [
    "help()"
   ]
  },
  {
   "cell_type": "markdown",
   "id": "202ed477-97ac-404b-886c-555309a704f0",
   "metadata": {
    "jp-MarkdownHeadingCollapsed": true
   },
   "source": [
    "### comprehension"
   ]
  },
  {
   "cell_type": "code",
   "execution_count": 1,
   "id": "806a660d-8a93-41f9-baa9-dbf9bba9fb23",
   "metadata": {},
   "outputs": [],
   "source": [
    "# list "
   ]
  },
  {
   "cell_type": "code",
   "execution_count": 2,
   "id": "bbc103d7-7846-45d0-84ba-6654c71a00f3",
   "metadata": {},
   "outputs": [],
   "source": [
    "import random"
   ]
  },
  {
   "cell_type": "code",
   "execution_count": 3,
   "id": "06927f75-cec8-4eee-908d-31bdb8b94140",
   "metadata": {},
   "outputs": [],
   "source": [
    "a = [random.randint(10,100) for n in range(20)]"
   ]
  },
  {
   "cell_type": "code",
   "execution_count": 5,
   "id": "c716f34e-7c74-408c-8502-1cd600b82e2a",
   "metadata": {},
   "outputs": [
    {
     "name": "stdout",
     "output_type": "stream",
     "text": [
      "[14, 35, 52, 21, 39, 68, 77, 21, 78, 15, 70, 82, 39, 12, 94, 29, 81, 26, 93, 62]\n"
     ]
    }
   ],
   "source": [
    "print(a)"
   ]
  },
  {
   "cell_type": "code",
   "execution_count": 11,
   "id": "eb6c7bf7-9ee6-485b-855e-650612e4b018",
   "metadata": {},
   "outputs": [],
   "source": [
    "b = {x**2 for x in range(1,11)}"
   ]
  },
  {
   "cell_type": "code",
   "execution_count": 12,
   "id": "31f5bb0c-c960-49ba-9623-f84351d6ffd1",
   "metadata": {},
   "outputs": [
    {
     "data": {
      "text/plain": [
       "{1, 4, 9, 16, 25, 36, 49, 64, 81, 100}"
      ]
     },
     "execution_count": 12,
     "metadata": {},
     "output_type": "execute_result"
    }
   ],
   "source": [
    "b"
   ]
  },
  {
   "cell_type": "code",
   "execution_count": 15,
   "id": "05298972-f169-4372-b9e2-0a87bb2a5e48",
   "metadata": {},
   "outputs": [
    {
     "data": {
      "text/plain": [
       "{'a': 10, 'b': 20, 'c': 30, 'd': 40}"
      ]
     },
     "execution_count": 15,
     "metadata": {},
     "output_type": "execute_result"
    }
   ],
   "source": [
    "d"
   ]
  },
  {
   "cell_type": "code",
   "execution_count": 16,
   "id": "81afc55c-c49a-4aa5-b125-6c2055be0837",
   "metadata": {},
   "outputs": [],
   "source": [
    "d1 = {k : v**2 for (k,v) in d.items()}"
   ]
  },
  {
   "cell_type": "code",
   "execution_count": 17,
   "id": "b9e50454-5544-442e-a7b7-a86970fb5111",
   "metadata": {},
   "outputs": [
    {
     "data": {
      "text/plain": [
       "{'a': 100, 'b': 400, 'c': 900, 'd': 1600}"
      ]
     },
     "execution_count": 17,
     "metadata": {},
     "output_type": "execute_result"
    }
   ],
   "source": [
    "d1"
   ]
  },
  {
   "cell_type": "code",
   "execution_count": null,
   "id": "f2b6f193-1be4-4cdc-9c5f-b784ba77342b",
   "metadata": {},
   "outputs": [],
   "source": []
  }
 ],
 "metadata": {
  "kernelspec": {
   "display_name": "Python 3 (ipykernel)",
   "language": "python",
   "name": "python3"
  },
  "language_info": {
   "codemirror_mode": {
    "name": "ipython",
    "version": 3
   },
   "file_extension": ".py",
   "mimetype": "text/x-python",
   "name": "python",
   "nbconvert_exporter": "python",
   "pygments_lexer": "ipython3",
   "version": "3.11.5"
  }
 },
 "nbformat": 4,
 "nbformat_minor": 5
}
